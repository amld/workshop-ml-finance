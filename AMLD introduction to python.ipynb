{
 "cells": [
  {
   "cell_type": "markdown",
   "metadata": {},
   "source": [
    "# Introduction to python\n",
    "\n",
    "Python is a programming language used in many different areas such as: network programming, webdevelopment, systems and **data science/machine learning/AI**.\n",
    "\n",
    "Python is a dynamic typed language\n",
    "\n",
    "## Good to know packages for data science:\n",
    "\n",
    "### Data science\n",
    "* numpy/scipy (most of the libraries rely on numpy's array)\n",
    "* statmodels (statistics)\n",
    "* pandas (Data frames, data manipulation)\n",
    "* scikit-learn (ML)\n",
    "* matplotlib (plotting)\n",
    "* seaborn (plotting)\n",
    "\n",
    "### ML/AI\n",
    "For ML/AI at least one of the following should be part of a data scientist repertoir\n",
    "* **keras** (very high leve API) \n",
    "* **pytorch** (lower level API, but more flexible. Good for research and maturing)\n",
    "* **tensorflow** (with many APIs, robust for production)\n",
    "* **MXNet** (API: python, julia, R, scala), low level and high level apis, but faster than keras when using the symbolic library (precompiled code)\n",
    " \n",
    "\n",
    "\n",
    "This notebook will just go through the basic topics in order:\n",
    "\n",
    "* Data types\n",
    "    * Numbers\n",
    "    * Strings\n",
    "    * Printing\n",
    "    * Lists\n",
    "    * Dictionaries\n",
    "    * Booleans\n",
    "    * Tuples \n",
    "    * Sets\n",
    "* Comparison Operators\n",
    "* if,elif, else Statements\n",
    "* for Loops\n",
    "* while Loops\n",
    "* range()\n",
    "* list comprehension\n",
    "* functions\n",
    "* lambda expressions\n",
    "* map and filter\n",
    "* methods\n",
    "____"
   ]
  },
  {
   "cell_type": "code",
   "execution_count": 1,
   "metadata": {},
   "outputs": [],
   "source": [
    "def hello_world():\n",
    "    print('Hello World!')"
   ]
  },
  {
   "cell_type": "code",
   "execution_count": 2,
   "metadata": {},
   "outputs": [
    {
     "name": "stdout",
     "output_type": "stream",
     "text": [
      "Hello World!\n"
     ]
    }
   ],
   "source": [
    "hello_world()"
   ]
  },
  {
   "cell_type": "markdown",
   "metadata": {},
   "source": [
    "# Data types"
   ]
  },
  {
   "cell_type": "markdown",
   "metadata": {},
   "source": [
    "### Numbers"
   ]
  },
  {
   "cell_type": "code",
   "execution_count": 3,
   "metadata": {},
   "outputs": [
    {
     "data": {
      "text/plain": [
       "2"
      ]
     },
     "execution_count": 3,
     "metadata": {},
     "output_type": "execute_result"
    }
   ],
   "source": [
    "1 + 1"
   ]
  },
  {
   "cell_type": "code",
   "execution_count": 4,
   "metadata": {},
   "outputs": [
    {
     "data": {
      "text/plain": [
       "3"
      ]
     },
     "execution_count": 4,
     "metadata": {},
     "output_type": "execute_result"
    }
   ],
   "source": [
    "1 * 3"
   ]
  },
  {
   "cell_type": "code",
   "execution_count": 5,
   "metadata": {},
   "outputs": [
    {
     "data": {
      "text/plain": [
       "0.5"
      ]
     },
     "execution_count": 5,
     "metadata": {},
     "output_type": "execute_result"
    }
   ],
   "source": [
    "1/2"
   ]
  },
  {
   "cell_type": "code",
   "execution_count": 6,
   "metadata": {},
   "outputs": [
    {
     "data": {
      "text/plain": [
       "16"
      ]
     },
     "execution_count": 6,
     "metadata": {},
     "output_type": "execute_result"
    }
   ],
   "source": [
    "2 ** 4"
   ]
  },
  {
   "cell_type": "code",
   "execution_count": 7,
   "metadata": {},
   "outputs": [
    {
     "data": {
      "text/plain": [
       "0"
      ]
     },
     "execution_count": 7,
     "metadata": {},
     "output_type": "execute_result"
    }
   ],
   "source": [
    "4 % 2"
   ]
  },
  {
   "cell_type": "code",
   "execution_count": 8,
   "metadata": {},
   "outputs": [
    {
     "data": {
      "text/plain": [
       "50"
      ]
     },
     "execution_count": 8,
     "metadata": {},
     "output_type": "execute_result"
    }
   ],
   "source": [
    "(2 + 3) * (5 + 5)"
   ]
  },
  {
   "cell_type": "markdown",
   "metadata": {},
   "source": [
    "**Printing many statements in the same cell**"
   ]
  },
  {
   "cell_type": "code",
   "execution_count": 9,
   "metadata": {},
   "outputs": [
    {
     "name": "stdout",
     "output_type": "stream",
     "text": [
      "1 + 1 = 2\n",
      "1 * 3 = 3\n",
      "1/2 = 0.5\n",
      "2**4 =  16\n",
      "4 % 2 = 0\n",
      "(2 + 3) * (5 + 5) = 50\n"
     ]
    }
   ],
   "source": [
    "print('1 + 1 =', 1 + 1)\n",
    "print('1 * 3 =', 1 * 3)\n",
    "print('1/2 =', 1/2)\n",
    "print('2**4 = ', 2**4)\n",
    "print('4 % 2 =', 4 % 2)\n",
    "print('(2 + 3) * (5 + 5) =', (2 + 3) * (5 + 5))"
   ]
  },
  {
   "cell_type": "markdown",
   "metadata": {},
   "source": [
    "### Variable assignment"
   ]
  },
  {
   "cell_type": "code",
   "execution_count": 10,
   "metadata": {},
   "outputs": [],
   "source": [
    "my_variable = 5"
   ]
  },
  {
   "cell_type": "code",
   "execution_count": 11,
   "metadata": {},
   "outputs": [
    {
     "data": {
      "text/plain": [
       "5"
      ]
     },
     "execution_count": 11,
     "metadata": {},
     "output_type": "execute_result"
    }
   ],
   "source": [
    "my_variable"
   ]
  },
  {
   "cell_type": "markdown",
   "metadata": {},
   "source": [
    "### Strings\n",
    "Either with single or double quotes"
   ]
  },
  {
   "cell_type": "code",
   "execution_count": 12,
   "metadata": {},
   "outputs": [
    {
     "data": {
      "text/plain": [
       "'my string'"
      ]
     },
     "execution_count": 12,
     "metadata": {},
     "output_type": "execute_result"
    }
   ],
   "source": [
    "'my string'"
   ]
  },
  {
   "cell_type": "code",
   "execution_count": 13,
   "metadata": {},
   "outputs": [
    {
     "data": {
      "text/plain": [
       "'my string'"
      ]
     },
     "execution_count": 13,
     "metadata": {},
     "output_type": "execute_result"
    }
   ],
   "source": [
    "\"my string\""
   ]
  },
  {
   "cell_type": "markdown",
   "metadata": {},
   "source": [
    "# Python containers\n",
    "* ### Lists\n",
    "* ### Dicts\n",
    "* ### Tuples\n",
    "* ### Sets"
   ]
  },
  {
   "cell_type": "markdown",
   "metadata": {},
   "source": [
    "### Lists\n",
    "The following is true for lists:\n",
    "* they can hold heterogeneous elements\n",
    "* they are mutable\n",
    "* they can be indexed by integers\n",
    "* their index starts at 0"
   ]
  },
  {
   "cell_type": "code",
   "execution_count": 14,
   "metadata": {},
   "outputs": [
    {
     "data": {
      "text/plain": [
       "[1, 2, 3]"
      ]
     },
     "execution_count": 14,
     "metadata": {},
     "output_type": "execute_result"
    }
   ],
   "source": [
    "[1,2,3]"
   ]
  },
  {
   "cell_type": "code",
   "execution_count": 15,
   "metadata": {},
   "outputs": [
    {
     "data": {
      "text/plain": [
       "['hi', 1, [1, 2]]"
      ]
     },
     "execution_count": 15,
     "metadata": {},
     "output_type": "execute_result"
    }
   ],
   "source": [
    "# Heterogeneous object\n",
    "['hi',1,[1,2]]"
   ]
  },
  {
   "cell_type": "code",
   "execution_count": 16,
   "metadata": {},
   "outputs": [],
   "source": [
    "my_list = ['a','b','c']"
   ]
  },
  {
   "cell_type": "code",
   "execution_count": 17,
   "metadata": {},
   "outputs": [],
   "source": [
    "my_list.append('d')"
   ]
  },
  {
   "cell_type": "code",
   "execution_count": 18,
   "metadata": {},
   "outputs": [
    {
     "data": {
      "text/plain": [
       "['a', 'b', 'c', 'd']"
      ]
     },
     "execution_count": 18,
     "metadata": {},
     "output_type": "execute_result"
    }
   ],
   "source": [
    "my_list"
   ]
  },
  {
   "cell_type": "code",
   "execution_count": 19,
   "metadata": {},
   "outputs": [
    {
     "data": {
      "text/plain": [
       "'a'"
      ]
     },
     "execution_count": 19,
     "metadata": {},
     "output_type": "execute_result"
    }
   ],
   "source": [
    "# access elements by index\n",
    "my_list[0]"
   ]
  },
  {
   "cell_type": "code",
   "execution_count": 20,
   "metadata": {},
   "outputs": [
    {
     "data": {
      "text/plain": [
       "['b', 'c', 'd']"
      ]
     },
     "execution_count": 20,
     "metadata": {},
     "output_type": "execute_result"
    }
   ],
   "source": [
    "# slicing\n",
    "my_list[1:]"
   ]
  },
  {
   "cell_type": "code",
   "execution_count": 21,
   "metadata": {},
   "outputs": [
    {
     "data": {
      "text/plain": [
       "['a']"
      ]
     },
     "execution_count": 21,
     "metadata": {},
     "output_type": "execute_result"
    }
   ],
   "source": [
    "my_list[:1]"
   ]
  },
  {
   "cell_type": "code",
   "execution_count": 22,
   "metadata": {},
   "outputs": [],
   "source": [
    "my_list[0] = 'NEW'"
   ]
  },
  {
   "cell_type": "code",
   "execution_count": 23,
   "metadata": {},
   "outputs": [
    {
     "data": {
      "text/plain": [
       "['NEW', 'b', 'c', 'd']"
      ]
     },
     "execution_count": 23,
     "metadata": {},
     "output_type": "execute_result"
    }
   ],
   "source": [
    "my_list"
   ]
  },
  {
   "cell_type": "code",
   "execution_count": 24,
   "metadata": {},
   "outputs": [
    {
     "data": {
      "text/plain": [
       "['NEW', 'b', 'c', 'd', 'NEW', 'b', 'c', 'd', 'NEW', 'b', 'c', 'd']"
      ]
     },
     "execution_count": 24,
     "metadata": {},
     "output_type": "execute_result"
    }
   ],
   "source": [
    "my_list * 3"
   ]
  },
  {
   "cell_type": "code",
   "execution_count": null,
   "metadata": {},
   "outputs": [],
   "source": []
  },
  {
   "cell_type": "markdown",
   "metadata": {},
   "source": [
    "### Dictionaries\n",
    "Dictionaries are hashmaps with key, value pairs. Dicts are indexed by their key."
   ]
  },
  {
   "cell_type": "code",
   "execution_count": 25,
   "metadata": {},
   "outputs": [],
   "source": [
    "d = {'key1':'item1','key2':'item2'}"
   ]
  },
  {
   "cell_type": "code",
   "execution_count": 26,
   "metadata": {},
   "outputs": [
    {
     "data": {
      "text/plain": [
       "{'key1': 'item1', 'key2': 'item2'}"
      ]
     },
     "execution_count": 26,
     "metadata": {},
     "output_type": "execute_result"
    }
   ],
   "source": [
    "d"
   ]
  },
  {
   "cell_type": "code",
   "execution_count": 27,
   "metadata": {},
   "outputs": [
    {
     "data": {
      "text/plain": [
       "'item1'"
      ]
     },
     "execution_count": 27,
     "metadata": {},
     "output_type": "execute_result"
    }
   ],
   "source": [
    "d['key1']"
   ]
  },
  {
   "cell_type": "code",
   "execution_count": 28,
   "metadata": {},
   "outputs": [
    {
     "name": "stdout",
     "output_type": "stream",
     "text": [
      "key: key1 | value: item1\n",
      "key: key2 | value: item2\n"
     ]
    }
   ],
   "source": [
    "for k, v in d.items():\n",
    "    print('key: {} | value: {}'.format(k, v))"
   ]
  },
  {
   "cell_type": "code",
   "execution_count": 29,
   "metadata": {},
   "outputs": [
    {
     "name": "stdout",
     "output_type": "stream",
     "text": [
      "dict_values(['item1', 'item2'])\n"
     ]
    }
   ],
   "source": [
    "print(d.values())"
   ]
  },
  {
   "cell_type": "code",
   "execution_count": 30,
   "metadata": {},
   "outputs": [
    {
     "name": "stdout",
     "output_type": "stream",
     "text": [
      "dict_keys(['key1', 'key2'])\n"
     ]
    }
   ],
   "source": [
    "print(d.keys())"
   ]
  },
  {
   "cell_type": "markdown",
   "metadata": {},
   "source": [
    "### Tuples \n",
    "Tuples are inmutable containers. Once created, they cannot be changed in any way. \n"
   ]
  },
  {
   "cell_type": "code",
   "execution_count": 31,
   "metadata": {},
   "outputs": [],
   "source": [
    "t = (1,2,3)"
   ]
  },
  {
   "cell_type": "code",
   "execution_count": 32,
   "metadata": {},
   "outputs": [
    {
     "data": {
      "text/plain": [
       "1"
      ]
     },
     "execution_count": 32,
     "metadata": {},
     "output_type": "execute_result"
    }
   ],
   "source": [
    "t[0]"
   ]
  },
  {
   "cell_type": "code",
   "execution_count": 33,
   "metadata": {},
   "outputs": [],
   "source": [
    "#t[0] = 'NEW'"
   ]
  },
  {
   "cell_type": "code",
   "execution_count": 34,
   "metadata": {},
   "outputs": [
    {
     "data": {
      "text/plain": [
       "(1, 2, 3, 1, 2, 3, 1, 2, 3)"
      ]
     },
     "execution_count": 34,
     "metadata": {},
     "output_type": "execute_result"
    }
   ],
   "source": [
    "t * 3"
   ]
  },
  {
   "cell_type": "markdown",
   "metadata": {},
   "source": [
    "# Control statemest\n",
    "Python code is structured \n",
    "* if\n",
    "* elif\n",
    "* else"
   ]
  },
  {
   "cell_type": "markdown",
   "metadata": {},
   "source": [
    "### if statement"
   ]
  },
  {
   "cell_type": "code",
   "execution_count": 35,
   "metadata": {},
   "outputs": [
    {
     "name": "stdout",
     "output_type": "stream",
     "text": [
      "Hello world!\n"
     ]
    }
   ],
   "source": [
    "if 1 < 2:\n",
    "    print('Hello world!')"
   ]
  },
  {
   "cell_type": "code",
   "execution_count": 36,
   "metadata": {},
   "outputs": [
    {
     "name": "stdout",
     "output_type": "stream",
     "text": [
      "Please enter an integer: 0\n",
      "Zero\n"
     ]
    }
   ],
   "source": [
    "# elif can be seen as either switch or case statement used by other languages\n",
    "x = int(input('Please enter an integer: '))\n",
    "if x < 0:\n",
    "    x = 0\n",
    "    print('Negative changed to zero')\n",
    "elif x == 0:\n",
    "    print('Zero')\n",
    "else:\n",
    "    print('More')"
   ]
  },
  {
   "cell_type": "markdown",
   "metadata": {},
   "source": [
    "### for statement"
   ]
  },
  {
   "cell_type": "code",
   "execution_count": 37,
   "metadata": {},
   "outputs": [
    {
     "name": "stdout",
     "output_type": "stream",
     "text": [
      "cat 3\n",
      "dog 3\n",
      "house 5\n",
      "car 3\n"
     ]
    }
   ],
   "source": [
    "words = ['cat', 'dog', 'house', 'car']\n",
    "for w in words:\n",
    "    print(w, len(w))"
   ]
  },
  {
   "cell_type": "code",
   "execution_count": 38,
   "metadata": {},
   "outputs": [
    {
     "data": {
      "text/plain": [
       "['house', 'cat', 'dog', 'house', 'car']"
      ]
     },
     "execution_count": 38,
     "metadata": {},
     "output_type": "execute_result"
    }
   ],
   "source": [
    "for w in words[:]:\n",
    "    if len(w) > 3:\n",
    "        words.insert(0, w) # insert w at index 0\n",
    "words"
   ]
  },
  {
   "cell_type": "code",
   "execution_count": 39,
   "metadata": {},
   "outputs": [
    {
     "name": "stdout",
     "output_type": "stream",
     "text": [
      "0\n",
      "1\n",
      "2\n",
      "3\n",
      "4\n"
     ]
    }
   ],
   "source": [
    "# range\n",
    "for i in range(5):\n",
    "    print(i)"
   ]
  },
  {
   "cell_type": "code",
   "execution_count": 40,
   "metadata": {},
   "outputs": [
    {
     "name": "stdout",
     "output_type": "stream",
     "text": [
      "0 Mary\n",
      "1 had\n",
      "2 a\n",
      "3 little\n",
      "4 lamb\n"
     ]
    }
   ],
   "source": [
    "a = ['Mary', 'had', 'a', 'little', 'lamb']\n",
    "for i in range(len(a)):\n",
    "    print(i, a[i])"
   ]
  },
  {
   "cell_type": "code",
   "execution_count": 41,
   "metadata": {},
   "outputs": [
    {
     "name": "stdout",
     "output_type": "stream",
     "text": [
      "0 Mary\n",
      "1 had\n",
      "2 a\n",
      "3 little\n",
      "4 lamb\n"
     ]
    }
   ],
   "source": [
    "for idx, value in enumerate(a):\n",
    "    print(idx, value)"
   ]
  },
  {
   "cell_type": "markdown",
   "metadata": {},
   "source": [
    "### While statement"
   ]
  },
  {
   "cell_type": "code",
   "execution_count": 42,
   "metadata": {},
   "outputs": [
    {
     "name": "stdout",
     "output_type": "stream",
     "text": [
      "0,1,1,2,3,5,8,13,21,34,55,89,144,233,377,610,987,"
     ]
    }
   ],
   "source": [
    "# Fibonacci series\n",
    "a, b = 0, 1\n",
    "while a < 1000:\n",
    "    print(a, end=',')\n",
    "    a, b = b, a + b"
   ]
  },
  {
   "cell_type": "markdown",
   "metadata": {},
   "source": [
    "## Functions\n",
    "The keyword **def** introduces a function definition. It must be followed by the function name and the parenthesized list of formal parameters. The statements that form the body of the function start at the next line, and must be indented."
   ]
  },
  {
   "cell_type": "code",
   "execution_count": 43,
   "metadata": {},
   "outputs": [],
   "source": [
    "def hello_world():\n",
    "    print('Hello world!')"
   ]
  },
  {
   "cell_type": "code",
   "execution_count": 44,
   "metadata": {},
   "outputs": [
    {
     "name": "stdout",
     "output_type": "stream",
     "text": [
      "Hello world!\n"
     ]
    }
   ],
   "source": [
    "hello_world()"
   ]
  },
  {
   "cell_type": "code",
   "execution_count": 45,
   "metadata": {},
   "outputs": [],
   "source": [
    "def fib(n):\n",
    "    a, b = 0, 1\n",
    "    while a < n:\n",
    "        print(a, end=' ')\n",
    "        a, b = b, a + b\n",
    "    print()"
   ]
  },
  {
   "cell_type": "code",
   "execution_count": 46,
   "metadata": {},
   "outputs": [
    {
     "name": "stdout",
     "output_type": "stream",
     "text": [
      "0 1 1 2 3 5 8 \n"
     ]
    }
   ],
   "source": [
    "fib(9)"
   ]
  },
  {
   "cell_type": "code",
   "execution_count": 47,
   "metadata": {},
   "outputs": [
    {
     "name": "stdout",
     "output_type": "stream",
     "text": [
      "0 1 1 2 3 5 8 13 21 34 55 89 144 233 377 610 987 1597 \n"
     ]
    }
   ],
   "source": [
    "fib(2000)"
   ]
  },
  {
   "cell_type": "markdown",
   "metadata": {},
   "source": [
    "### Lambda expressions\n",
    "Small anonymous functions can be created with the lambda keyword. Lambda functions can be used wherever function objects are required. They are syntactically restricted to a single expression. Semantically, they are just syntactic sugar for a normal function definition. "
   ]
  },
  {
   "cell_type": "code",
   "execution_count": 48,
   "metadata": {},
   "outputs": [],
   "source": [
    "def make_incrementor(n):\n",
    "    return lambda x: x + n"
   ]
  },
  {
   "cell_type": "code",
   "execution_count": 49,
   "metadata": {},
   "outputs": [],
   "source": [
    "f = make_incrementor(42) # Initialize incrementor"
   ]
  },
  {
   "cell_type": "code",
   "execution_count": 50,
   "metadata": {},
   "outputs": [
    {
     "data": {
      "text/plain": [
       "42"
      ]
     },
     "execution_count": 50,
     "metadata": {},
     "output_type": "execute_result"
    }
   ],
   "source": [
    "f(0)"
   ]
  },
  {
   "cell_type": "code",
   "execution_count": 51,
   "metadata": {},
   "outputs": [
    {
     "data": {
      "text/plain": [
       "43"
      ]
     },
     "execution_count": 51,
     "metadata": {},
     "output_type": "execute_result"
    }
   ],
   "source": [
    "f(1)"
   ]
  },
  {
   "cell_type": "markdown",
   "metadata": {},
   "source": [
    "# Numpy\n",
    "\n",
    "NumPy is the fundamental package for scientific computing with Python. It contains among other things:\n",
    "\n",
    "* a powerful N-dimensional array object\n",
    "* sophisticated (broadcasting) functions\n",
    "* tools for integrating C/C++ and Fortran code\n",
    "* useful linear algebra, Fourier transform, and random number capabilities\n",
    "\n",
    "Besides its obvious scientific uses, NumPy can also be used as an efficient multi-dimensional container of generic data. Arbitrary data-types can be defined. This allows NumPy to seamlessly and speedily integrate with a wide variety of databases.\n",
    "\n",
    "NumPy is licensed under the BSD license, enabling reuse with few restrictions.\n",
    "\n",
    "[Clickable_visible_hyperlink](http://www.numpy.org/)"
   ]
  },
  {
   "cell_type": "markdown",
   "metadata": {},
   "source": [
    "### Array creation"
   ]
  },
  {
   "cell_type": "code",
   "execution_count": 52,
   "metadata": {},
   "outputs": [],
   "source": [
    "import numpy as np"
   ]
  },
  {
   "cell_type": "code",
   "execution_count": 53,
   "metadata": {},
   "outputs": [
    {
     "data": {
      "text/plain": [
       "array([2, 3, 4])"
      ]
     },
     "execution_count": 53,
     "metadata": {},
     "output_type": "execute_result"
    }
   ],
   "source": [
    "# using python list\n",
    "a = np.array([2, 3, 4])\n",
    "a"
   ]
  },
  {
   "cell_type": "code",
   "execution_count": 54,
   "metadata": {},
   "outputs": [
    {
     "data": {
      "text/plain": [
       "dtype('int32')"
      ]
     },
     "execution_count": 54,
     "metadata": {},
     "output_type": "execute_result"
    }
   ],
   "source": [
    "a.dtype"
   ]
  },
  {
   "cell_type": "code",
   "execution_count": 55,
   "metadata": {},
   "outputs": [
    {
     "data": {
      "text/plain": [
       "array([ 1.2,  2.5,  6.9])"
      ]
     },
     "execution_count": 55,
     "metadata": {},
     "output_type": "execute_result"
    }
   ],
   "source": [
    "b = np.array([1.2, 2.5, 6.9])\n",
    "b"
   ]
  },
  {
   "cell_type": "code",
   "execution_count": 56,
   "metadata": {},
   "outputs": [
    {
     "data": {
      "text/plain": [
       "dtype('float64')"
      ]
     },
     "execution_count": 56,
     "metadata": {},
     "output_type": "execute_result"
    }
   ],
   "source": [
    "b.dtype"
   ]
  },
  {
   "cell_type": "code",
   "execution_count": 57,
   "metadata": {},
   "outputs": [
    {
     "data": {
      "text/plain": [
       "array([[ 1.5,  2. ,  3. ],\n",
       "       [ 4. ,  5. ,  6. ]])"
      ]
     },
     "execution_count": 57,
     "metadata": {},
     "output_type": "execute_result"
    }
   ],
   "source": [
    "# matrix or 2-dim array\n",
    "b = np.array([(1.5, 2, 3), (4, 5, 6)])\n",
    "b"
   ]
  },
  {
   "cell_type": "code",
   "execution_count": 58,
   "metadata": {},
   "outputs": [
    {
     "data": {
      "text/plain": [
       "(2, 3)"
      ]
     },
     "execution_count": 58,
     "metadata": {},
     "output_type": "execute_result"
    }
   ],
   "source": [
    "b.shape"
   ]
  },
  {
   "cell_type": "code",
   "execution_count": 59,
   "metadata": {},
   "outputs": [
    {
     "data": {
      "text/plain": [
       "array([[ 1.+0.j,  2.+0.j],\n",
       "       [ 5.+0.j,  9.+0.j]])"
      ]
     },
     "execution_count": 59,
     "metadata": {},
     "output_type": "execute_result"
    }
   ],
   "source": [
    "c = np.array([[1, 2], [5, 9]], dtype=complex)\n",
    "c"
   ]
  },
  {
   "cell_type": "code",
   "execution_count": 60,
   "metadata": {},
   "outputs": [
    {
     "data": {
      "text/plain": [
       "dtype('complex128')"
      ]
     },
     "execution_count": 60,
     "metadata": {},
     "output_type": "execute_result"
    }
   ],
   "source": [
    "c.dtype"
   ]
  },
  {
   "cell_type": "code",
   "execution_count": 61,
   "metadata": {},
   "outputs": [
    {
     "data": {
      "text/plain": [
       "(2, 2)"
      ]
     },
     "execution_count": 61,
     "metadata": {},
     "output_type": "execute_result"
    }
   ],
   "source": [
    "c.shape"
   ]
  },
  {
   "cell_type": "markdown",
   "metadata": {},
   "source": [
    "### Special functions\n",
    "Creating arrays with special functions"
   ]
  },
  {
   "cell_type": "code",
   "execution_count": 62,
   "metadata": {},
   "outputs": [
    {
     "data": {
      "text/plain": [
       "array([[ 0.,  0.,  0.,  0.],\n",
       "       [ 0.,  0.,  0.,  0.],\n",
       "       [ 0.,  0.,  0.,  0.]])"
      ]
     },
     "execution_count": 62,
     "metadata": {},
     "output_type": "execute_result"
    }
   ],
   "source": [
    "np.zeros((3, 4))"
   ]
  },
  {
   "cell_type": "code",
   "execution_count": 63,
   "metadata": {},
   "outputs": [
    {
     "data": {
      "text/plain": [
       "array([[[1, 1, 1, 1],\n",
       "        [1, 1, 1, 1],\n",
       "        [1, 1, 1, 1]],\n",
       "\n",
       "       [[1, 1, 1, 1],\n",
       "        [1, 1, 1, 1],\n",
       "        [1, 1, 1, 1]]], dtype=int16)"
      ]
     },
     "execution_count": 63,
     "metadata": {},
     "output_type": "execute_result"
    }
   ],
   "source": [
    "ones_array = np.ones((2, 3, 4), dtype=np.int16)\n",
    "ones_array"
   ]
  },
  {
   "cell_type": "code",
   "execution_count": 64,
   "metadata": {},
   "outputs": [
    {
     "data": {
      "text/plain": [
       "(2, 3, 4)"
      ]
     },
     "execution_count": 64,
     "metadata": {},
     "output_type": "execute_result"
    }
   ],
   "source": [
    "ones_array.shape"
   ]
  },
  {
   "cell_type": "code",
   "execution_count": 65,
   "metadata": {},
   "outputs": [
    {
     "data": {
      "text/plain": [
       "dtype('int16')"
      ]
     },
     "execution_count": 65,
     "metadata": {},
     "output_type": "execute_result"
    }
   ],
   "source": [
    "ones_array.dtype"
   ]
  },
  {
   "cell_type": "markdown",
   "metadata": {},
   "source": [
    "### Create a sequence of numbers"
   ]
  },
  {
   "cell_type": "code",
   "execution_count": 66,
   "metadata": {},
   "outputs": [
    {
     "data": {
      "text/plain": [
       "array([10, 15, 20, 25])"
      ]
     },
     "execution_count": 66,
     "metadata": {},
     "output_type": "execute_result"
    }
   ],
   "source": [
    "# first index: start of sequence\n",
    "# second index: end of sequence, exclusive\n",
    "# third index: step\n",
    "np.arange(10, 30, 5)"
   ]
  },
  {
   "cell_type": "code",
   "execution_count": 67,
   "metadata": {},
   "outputs": [
    {
     "data": {
      "text/plain": [
       "array([ 0.   ,  1.125,  2.25 ,  3.375,  4.5  ,  5.625,  6.75 ,  7.875,  9.   ])"
      ]
     },
     "execution_count": 67,
     "metadata": {},
     "output_type": "execute_result"
    }
   ],
   "source": [
    "# in linspace, specify no of elements instead of step\n",
    "np.linspace(0, 9, 9)"
   ]
  },
  {
   "cell_type": "markdown",
   "metadata": {},
   "source": [
    "### Basic math operations with arrays"
   ]
  },
  {
   "cell_type": "code",
   "execution_count": 68,
   "metadata": {},
   "outputs": [
    {
     "name": "stdout",
     "output_type": "stream",
     "text": [
      "a: [5 6 7 8] | b: [0 1 2 3]\n"
     ]
    }
   ],
   "source": [
    "a = np.array([5, 6, 7, 8])\n",
    "b = np.arange(4)\n",
    "print('a: {} | b: {}'.format(a, b))"
   ]
  },
  {
   "cell_type": "code",
   "execution_count": 69,
   "metadata": {},
   "outputs": [
    {
     "name": "stdout",
     "output_type": "stream",
     "text": [
      "[5 5 5 5]\n",
      "[0 1 4 9]\n",
      "[-9.58924275 -2.79415498  6.56986599  9.89358247]\n"
     ]
    }
   ],
   "source": [
    "print(a - b)\n",
    "print(b**2)\n",
    "print(10 * np.sin(a))"
   ]
  },
  {
   "cell_type": "code",
   "execution_count": 70,
   "metadata": {},
   "outputs": [
    {
     "data": {
      "text/plain": [
       "array([ True,  True,  True,  True], dtype=bool)"
      ]
     },
     "execution_count": 70,
     "metadata": {},
     "output_type": "execute_result"
    }
   ],
   "source": [
    "a < 10"
   ]
  },
  {
   "cell_type": "code",
   "execution_count": 71,
   "metadata": {},
   "outputs": [
    {
     "data": {
      "text/plain": [
       "array([[2, 0],\n",
       "       [0, 4]])"
      ]
     },
     "execution_count": 71,
     "metadata": {},
     "output_type": "execute_result"
    }
   ],
   "source": [
    "# Elementwise product of matrices\n",
    "\n",
    "A = np.array([[1, 1], [0, 1]])\n",
    "B = np.array([[2, 0], [3, 4]])\n",
    "A * B"
   ]
  },
  {
   "cell_type": "code",
   "execution_count": 72,
   "metadata": {},
   "outputs": [
    {
     "data": {
      "text/plain": [
       "array([[2, 0],\n",
       "       [0, 4]])"
      ]
     },
     "execution_count": 72,
     "metadata": {},
     "output_type": "execute_result"
    }
   ],
   "source": [
    "np.multiply(A, B)"
   ]
  },
  {
   "cell_type": "markdown",
   "metadata": {},
   "source": [
    "### Indexing, slicing an iterating"
   ]
  },
  {
   "cell_type": "code",
   "execution_count": 73,
   "metadata": {},
   "outputs": [
    {
     "data": {
      "text/plain": [
       "array([  0,   1,   8,  27,  64, 125, 216, 343, 512, 729], dtype=int32)"
      ]
     },
     "execution_count": 73,
     "metadata": {},
     "output_type": "execute_result"
    }
   ],
   "source": [
    "a = np.arange(10) ** 3\n",
    "a"
   ]
  },
  {
   "cell_type": "code",
   "execution_count": 74,
   "metadata": {},
   "outputs": [
    {
     "data": {
      "text/plain": [
       "0"
      ]
     },
     "execution_count": 74,
     "metadata": {},
     "output_type": "execute_result"
    }
   ],
   "source": [
    "a[0]"
   ]
  },
  {
   "cell_type": "code",
   "execution_count": 75,
   "metadata": {},
   "outputs": [
    {
     "data": {
      "text/plain": [
       "array([ 8, 27, 64], dtype=int32)"
      ]
     },
     "execution_count": 75,
     "metadata": {},
     "output_type": "execute_result"
    }
   ],
   "source": [
    "# range chosen [2, 5)\n",
    "a[2:5]"
   ]
  },
  {
   "cell_type": "code",
   "execution_count": 76,
   "metadata": {},
   "outputs": [],
   "source": [
    "a[:6:2] = -1000 # change every second element"
   ]
  },
  {
   "cell_type": "code",
   "execution_count": 77,
   "metadata": {},
   "outputs": [
    {
     "data": {
      "text/plain": [
       "array([-1000,     1, -1000,    27, -1000,   125,   216,   343,   512,   729], dtype=int32)"
      ]
     },
     "execution_count": 77,
     "metadata": {},
     "output_type": "execute_result"
    }
   ],
   "source": [
    "a"
   ]
  },
  {
   "cell_type": "code",
   "execution_count": 78,
   "metadata": {},
   "outputs": [
    {
     "data": {
      "text/plain": [
       "array([  729,   512,   343,   216,   125, -1000,    27, -1000,     1, -1000], dtype=int32)"
      ]
     },
     "execution_count": 78,
     "metadata": {},
     "output_type": "execute_result"
    }
   ],
   "source": [
    "# reverse a\n",
    "a[::-1]"
   ]
  },
  {
   "cell_type": "code",
   "execution_count": null,
   "metadata": {},
   "outputs": [],
   "source": []
  },
  {
   "cell_type": "markdown",
   "metadata": {},
   "source": [
    "### Changing the shape of arrays"
   ]
  },
  {
   "cell_type": "code",
   "execution_count": 79,
   "metadata": {},
   "outputs": [
    {
     "data": {
      "text/plain": [
       "array([[ 7.,  0.,  6.,  7.],\n",
       "       [ 0.,  4.,  4.,  0.],\n",
       "       [ 6.,  7.,  5.,  5.]])"
      ]
     },
     "execution_count": 79,
     "metadata": {},
     "output_type": "execute_result"
    }
   ],
   "source": [
    "a = np.floor(10 * np.random.random((3, 4)))\n",
    "a"
   ]
  },
  {
   "cell_type": "code",
   "execution_count": 80,
   "metadata": {},
   "outputs": [
    {
     "data": {
      "text/plain": [
       "(3, 4)"
      ]
     },
     "execution_count": 80,
     "metadata": {},
     "output_type": "execute_result"
    }
   ],
   "source": [
    "a.shape"
   ]
  },
  {
   "cell_type": "markdown",
   "metadata": {},
   "source": [
    "The shape of an array can be changed with various commands. Note that the following three commands all return a modified array, but do not change the original array:"
   ]
  },
  {
   "cell_type": "code",
   "execution_count": 81,
   "metadata": {},
   "outputs": [
    {
     "data": {
      "text/plain": [
       "array([ 7.,  0.,  6.,  7.,  0.,  4.,  4.,  0.,  6.,  7.,  5.,  5.])"
      ]
     },
     "execution_count": 81,
     "metadata": {},
     "output_type": "execute_result"
    }
   ],
   "source": [
    "a.ravel() # returns a flattened array"
   ]
  },
  {
   "cell_type": "code",
   "execution_count": 82,
   "metadata": {},
   "outputs": [
    {
     "data": {
      "text/plain": [
       "array([[ 7.,  0.,  6.,  7.],\n",
       "       [ 0.,  4.,  4.,  0.],\n",
       "       [ 6.,  7.,  5.,  5.]])"
      ]
     },
     "execution_count": 82,
     "metadata": {},
     "output_type": "execute_result"
    }
   ],
   "source": [
    "a # does not change a"
   ]
  },
  {
   "cell_type": "code",
   "execution_count": 83,
   "metadata": {},
   "outputs": [
    {
     "data": {
      "text/plain": [
       "array([[ 7.,  0.],\n",
       "       [ 6.,  7.],\n",
       "       [ 0.,  4.],\n",
       "       [ 4.,  0.],\n",
       "       [ 6.,  7.],\n",
       "       [ 5.,  5.]])"
      ]
     },
     "execution_count": 83,
     "metadata": {},
     "output_type": "execute_result"
    }
   ],
   "source": [
    "a.reshape(6, 2)"
   ]
  },
  {
   "cell_type": "code",
   "execution_count": 84,
   "metadata": {},
   "outputs": [
    {
     "data": {
      "text/plain": [
       "array([[ 7.,  0.,  6.,  7.],\n",
       "       [ 0.,  4.,  4.,  0.],\n",
       "       [ 6.,  7.,  5.,  5.]])"
      ]
     },
     "execution_count": 84,
     "metadata": {},
     "output_type": "execute_result"
    }
   ],
   "source": [
    "a"
   ]
  },
  {
   "cell_type": "code",
   "execution_count": 85,
   "metadata": {},
   "outputs": [
    {
     "data": {
      "text/plain": [
       "array([[ 7.,  0.,  6.],\n",
       "       [ 0.,  4.,  7.],\n",
       "       [ 6.,  4.,  5.],\n",
       "       [ 7.,  0.,  5.]])"
      ]
     },
     "execution_count": 85,
     "metadata": {},
     "output_type": "execute_result"
    }
   ],
   "source": [
    "a.T"
   ]
  },
  {
   "cell_type": "code",
   "execution_count": 86,
   "metadata": {},
   "outputs": [
    {
     "data": {
      "text/plain": [
       "(4, 3)"
      ]
     },
     "execution_count": 86,
     "metadata": {},
     "output_type": "execute_result"
    }
   ],
   "source": [
    "a.T.shape"
   ]
  },
  {
   "cell_type": "code",
   "execution_count": 87,
   "metadata": {},
   "outputs": [
    {
     "data": {
      "text/plain": [
       "array([[ 7.,  0.,  6.,  7.,  0.,  4.],\n",
       "       [ 4.,  0.,  6.,  7.,  5.,  5.]])"
      ]
     },
     "execution_count": 87,
     "metadata": {},
     "output_type": "execute_result"
    }
   ],
   "source": [
    "a.resize((2, 6)) # resize modifies the array\n",
    "a"
   ]
  },
  {
   "cell_type": "markdown",
   "metadata": {},
   "source": [
    "When one of the dimensions is: **-1**"
   ]
  },
  {
   "cell_type": "code",
   "execution_count": 88,
   "metadata": {},
   "outputs": [
    {
     "data": {
      "text/plain": [
       "array([[ 7.,  0.,  6.,  7.],\n",
       "       [ 0.,  4.,  4.,  0.],\n",
       "       [ 6.,  7.,  5.,  5.]])"
      ]
     },
     "execution_count": 88,
     "metadata": {},
     "output_type": "execute_result"
    }
   ],
   "source": [
    "a.reshape(3, -1)"
   ]
  },
  {
   "cell_type": "markdown",
   "metadata": {},
   "source": [
    "# Pandas\n",
    "Pandas is a powerful python data analysis toolkit. Panda provides fast, flexible, and expressive data structures designed to make working with “relational” or “labeled” data both easy and intuitive. It aims to be the fundamental high-level building block for doing practical, real world data analysis in Python. Additionally, it has the broader goal of becoming the most powerful and flexible open source data analysis / manipulation tool available in any language. It is already well on its way toward this goal.\n",
    "\n",
    "**Pandas** is well suited for many different kinds of data:\n",
    "* Tabular data with heterogeneously-typed columns, as in an SQL table or Excel spreadsheet\n",
    "* Ordered and unordered (not necessarily fixed-frequency) time series data.\n",
    "* Arbitrary matrix data (homogeneously typed or heterogeneous) with row and column labels\n",
    "* Any other form of observational / statistical data sets. The data actually need not be labeled at all to be placed into a pandas data structure\n",
    "\n",
    "### Data structures\n",
    "The two most important data structures in pandas are:\n",
    "* **Series**: a one-dimensional array-like object, with an index\n",
    "* **Dataframe**: A DataFrame represents a tabular, spreadsheet-like data structure containing an ordered collection of columns, each of which can be a different value type (numeric, string, boolean, etc.)"
   ]
  },
  {
   "cell_type": "markdown",
   "metadata": {},
   "source": [
    "## Series"
   ]
  },
  {
   "cell_type": "code",
   "execution_count": 89,
   "metadata": {},
   "outputs": [],
   "source": [
    "import pandas as pd"
   ]
  },
  {
   "cell_type": "code",
   "execution_count": 90,
   "metadata": {},
   "outputs": [
    {
     "data": {
      "text/plain": [
       "0    4\n",
       "1    7\n",
       "2   -5\n",
       "3    3\n",
       "dtype: int64"
      ]
     },
     "execution_count": 90,
     "metadata": {},
     "output_type": "execute_result"
    }
   ],
   "source": [
    "obj = pd.Series([4, 7, -5, 3])\n",
    "obj"
   ]
  },
  {
   "cell_type": "code",
   "execution_count": 91,
   "metadata": {},
   "outputs": [
    {
     "data": {
      "text/plain": [
       "array([ 4,  7, -5,  3], dtype=int64)"
      ]
     },
     "execution_count": 91,
     "metadata": {},
     "output_type": "execute_result"
    }
   ],
   "source": [
    "obj.values"
   ]
  },
  {
   "cell_type": "code",
   "execution_count": 92,
   "metadata": {},
   "outputs": [
    {
     "data": {
      "text/plain": [
       "RangeIndex(start=0, stop=4, step=1)"
      ]
     },
     "execution_count": 92,
     "metadata": {},
     "output_type": "execute_result"
    }
   ],
   "source": [
    "obj.index"
   ]
  },
  {
   "cell_type": "code",
   "execution_count": 93,
   "metadata": {},
   "outputs": [
    {
     "data": {
      "text/plain": [
       "d    4\n",
       "b    7\n",
       "a   -5\n",
       "c    3\n",
       "dtype: int64"
      ]
     },
     "execution_count": 93,
     "metadata": {},
     "output_type": "execute_result"
    }
   ],
   "source": [
    "obj2 = pd.Series([4, 7, -5, 3], index=['d', 'b', 'a', 'c'])\n",
    "obj2"
   ]
  },
  {
   "cell_type": "code",
   "execution_count": 94,
   "metadata": {},
   "outputs": [
    {
     "data": {
      "text/plain": [
       "Index(['d', 'b', 'a', 'c'], dtype='object')"
      ]
     },
     "execution_count": 94,
     "metadata": {},
     "output_type": "execute_result"
    }
   ],
   "source": [
    "obj2.index"
   ]
  },
  {
   "cell_type": "code",
   "execution_count": 95,
   "metadata": {},
   "outputs": [
    {
     "data": {
      "text/plain": [
       "-5"
      ]
     },
     "execution_count": 95,
     "metadata": {},
     "output_type": "execute_result"
    }
   ],
   "source": [
    "obj2['a']"
   ]
  },
  {
   "cell_type": "code",
   "execution_count": 96,
   "metadata": {},
   "outputs": [
    {
     "data": {
      "text/plain": [
       "d    6\n",
       "b    7\n",
       "a   -5\n",
       "c    3\n",
       "dtype: int64"
      ]
     },
     "execution_count": 96,
     "metadata": {},
     "output_type": "execute_result"
    }
   ],
   "source": [
    "obj2['d'] = 6\n",
    "obj2"
   ]
  },
  {
   "cell_type": "markdown",
   "metadata": {},
   "source": [
    "Many operations preserve the relation between values and index\n",
    "* filtering with booleans\n",
    "* multiplication by scalar\n",
    "* applying math operations"
   ]
  },
  {
   "cell_type": "code",
   "execution_count": 97,
   "metadata": {},
   "outputs": [
    {
     "data": {
      "text/plain": [
       "d    6\n",
       "b    7\n",
       "c    3\n",
       "dtype: int64"
      ]
     },
     "execution_count": 97,
     "metadata": {},
     "output_type": "execute_result"
    }
   ],
   "source": [
    "# filtering with boolean array\n",
    "obj2[obj2 > 0]"
   ]
  },
  {
   "cell_type": "code",
   "execution_count": 98,
   "metadata": {},
   "outputs": [
    {
     "data": {
      "text/plain": [
       "d    12\n",
       "b    14\n",
       "a   -10\n",
       "c     6\n",
       "dtype: int64"
      ]
     },
     "execution_count": 98,
     "metadata": {},
     "output_type": "execute_result"
    }
   ],
   "source": [
    "obj2 * 2"
   ]
  },
  {
   "cell_type": "code",
   "execution_count": 99,
   "metadata": {},
   "outputs": [
    {
     "data": {
      "text/plain": [
       "d    6\n",
       "b    7\n",
       "a   -5\n",
       "c    3\n",
       "dtype: int64"
      ]
     },
     "execution_count": 99,
     "metadata": {},
     "output_type": "execute_result"
    }
   ],
   "source": [
    "obj2"
   ]
  },
  {
   "cell_type": "code",
   "execution_count": 100,
   "metadata": {},
   "outputs": [
    {
     "data": {
      "text/plain": [
       "d     403.428793\n",
       "b    1096.633158\n",
       "a       0.006738\n",
       "c      20.085537\n",
       "dtype: float64"
      ]
     },
     "execution_count": 100,
     "metadata": {},
     "output_type": "execute_result"
    }
   ],
   "source": [
    "np.exp(obj2)"
   ]
  },
  {
   "cell_type": "markdown",
   "metadata": {},
   "source": [
    "## Creating a series from a python dict\n"
   ]
  },
  {
   "cell_type": "code",
   "execution_count": 101,
   "metadata": {},
   "outputs": [
    {
     "data": {
      "text/plain": [
       "Ohio      35000\n",
       "Texas     71000\n",
       "Oregon    16000\n",
       "Utah       5000\n",
       "dtype: int64"
      ]
     },
     "execution_count": 101,
     "metadata": {},
     "output_type": "execute_result"
    }
   ],
   "source": [
    "sdata = {'Ohio': 35000, 'Texas': 71000, 'Oregon': 16000, 'Utah': 5000}\n",
    "obj3 = pd.Series(sdata)\n",
    "obj3"
   ]
  },
  {
   "cell_type": "markdown",
   "metadata": {},
   "source": [
    "## Dataframe"
   ]
  },
  {
   "cell_type": "code",
   "execution_count": 102,
   "metadata": {},
   "outputs": [
    {
     "data": {
      "text/html": [
       "<div>\n",
       "<style scoped>\n",
       "    .dataframe tbody tr th:only-of-type {\n",
       "        vertical-align: middle;\n",
       "    }\n",
       "\n",
       "    .dataframe tbody tr th {\n",
       "        vertical-align: top;\n",
       "    }\n",
       "\n",
       "    .dataframe thead th {\n",
       "        text-align: right;\n",
       "    }\n",
       "</style>\n",
       "<table border=\"1\" class=\"dataframe\">\n",
       "  <thead>\n",
       "    <tr style=\"text-align: right;\">\n",
       "      <th></th>\n",
       "      <th>state</th>\n",
       "      <th>year</th>\n",
       "      <th>pop</th>\n",
       "    </tr>\n",
       "  </thead>\n",
       "  <tbody>\n",
       "    <tr>\n",
       "      <th>0</th>\n",
       "      <td>Ohio</td>\n",
       "      <td>2000</td>\n",
       "      <td>1.5</td>\n",
       "    </tr>\n",
       "    <tr>\n",
       "      <th>1</th>\n",
       "      <td>Ohio</td>\n",
       "      <td>2001</td>\n",
       "      <td>1.7</td>\n",
       "    </tr>\n",
       "    <tr>\n",
       "      <th>2</th>\n",
       "      <td>Ohio</td>\n",
       "      <td>2002</td>\n",
       "      <td>3.6</td>\n",
       "    </tr>\n",
       "    <tr>\n",
       "      <th>3</th>\n",
       "      <td>Nevada</td>\n",
       "      <td>2001</td>\n",
       "      <td>2.4</td>\n",
       "    </tr>\n",
       "    <tr>\n",
       "      <th>4</th>\n",
       "      <td>Nevada</td>\n",
       "      <td>2002</td>\n",
       "      <td>2.9</td>\n",
       "    </tr>\n",
       "  </tbody>\n",
       "</table>\n",
       "</div>"
      ],
      "text/plain": [
       "    state  year  pop\n",
       "0    Ohio  2000  1.5\n",
       "1    Ohio  2001  1.7\n",
       "2    Ohio  2002  3.6\n",
       "3  Nevada  2001  2.4\n",
       "4  Nevada  2002  2.9"
      ]
     },
     "execution_count": 102,
     "metadata": {},
     "output_type": "execute_result"
    }
   ],
   "source": [
    "data = {'state': ['Ohio', 'Ohio', 'Ohio', 'Nevada', 'Nevada'],\n",
    "        'year': [2000, 2001, 2002, 2001, 2002],\n",
    "        'pop': [1.5, 1.7, 3.6, 2.4, 2.9]}\n",
    "\n",
    "df = pd.DataFrame(data)\n",
    "df"
   ]
  },
  {
   "cell_type": "code",
   "execution_count": 103,
   "metadata": {},
   "outputs": [],
   "source": [
    "from utils.utils import PROJECT_DATA_DIR\n",
    "import os"
   ]
  },
  {
   "cell_type": "code",
   "execution_count": 104,
   "metadata": {},
   "outputs": [],
   "source": [
    "df = pd.read_csv(os.path.join(PROJECT_DATA_DIR, 'closing_prices_tiingo.csv'))"
   ]
  },
  {
   "cell_type": "code",
   "execution_count": 105,
   "metadata": {
    "scrolled": false
   },
   "outputs": [
    {
     "data": {
      "text/html": [
       "<div>\n",
       "<style scoped>\n",
       "    .dataframe tbody tr th:only-of-type {\n",
       "        vertical-align: middle;\n",
       "    }\n",
       "\n",
       "    .dataframe tbody tr th {\n",
       "        vertical-align: top;\n",
       "    }\n",
       "\n",
       "    .dataframe thead th {\n",
       "        text-align: right;\n",
       "    }\n",
       "</style>\n",
       "<table border=\"1\" class=\"dataframe\">\n",
       "  <thead>\n",
       "    <tr style=\"text-align: right;\">\n",
       "      <th></th>\n",
       "      <th>date</th>\n",
       "      <th>AAPL</th>\n",
       "      <th>MSFT</th>\n",
       "      <th>FB</th>\n",
       "      <th>AMZN</th>\n",
       "      <th>JNJ</th>\n",
       "      <th>JPM</th>\n",
       "      <th>XOM</th>\n",
       "      <th>GOOGL</th>\n",
       "      <th>GOOG</th>\n",
       "      <th>...</th>\n",
       "      <th>WMT</th>\n",
       "      <th>MDT</th>\n",
       "      <th>GILD</th>\n",
       "      <th>CELG</th>\n",
       "      <th>HON</th>\n",
       "      <th>NVDA</th>\n",
       "      <th>AVGO</th>\n",
       "      <th>BMY</th>\n",
       "      <th>PCLN</th>\n",
       "      <th>ABT</th>\n",
       "    </tr>\n",
       "  </thead>\n",
       "  <tbody>\n",
       "    <tr>\n",
       "      <th>0</th>\n",
       "      <td>2001-01-02</td>\n",
       "      <td>0.941914</td>\n",
       "      <td>14.254892</td>\n",
       "      <td>NaN</td>\n",
       "      <td>13.88</td>\n",
       "      <td>32.419918</td>\n",
       "      <td>25.057661</td>\n",
       "      <td>28.026554</td>\n",
       "      <td>NaN</td>\n",
       "      <td>NaN</td>\n",
       "      <td>...</td>\n",
       "      <td>38.562248</td>\n",
       "      <td>45.207628</td>\n",
       "      <td>2.141676</td>\n",
       "      <td>4.04750</td>\n",
       "      <td>29.239666</td>\n",
       "      <td>4.621229</td>\n",
       "      <td>NaN</td>\n",
       "      <td>36.259178</td>\n",
       "      <td>8.46</td>\n",
       "      <td>13.101557</td>\n",
       "    </tr>\n",
       "    <tr>\n",
       "      <th>1</th>\n",
       "      <td>2001-01-03</td>\n",
       "      <td>1.036232</td>\n",
       "      <td>15.753331</td>\n",
       "      <td>NaN</td>\n",
       "      <td>17.56</td>\n",
       "      <td>31.386930</td>\n",
       "      <td>29.630184</td>\n",
       "      <td>26.806504</td>\n",
       "      <td>NaN</td>\n",
       "      <td>NaN</td>\n",
       "      <td>...</td>\n",
       "      <td>41.825868</td>\n",
       "      <td>44.774547</td>\n",
       "      <td>2.230082</td>\n",
       "      <td>3.75000</td>\n",
       "      <td>31.803506</td>\n",
       "      <td>6.039702</td>\n",
       "      <td>NaN</td>\n",
       "      <td>34.020237</td>\n",
       "      <td>10.86</td>\n",
       "      <td>12.810290</td>\n",
       "    </tr>\n",
       "    <tr>\n",
       "      <th>2</th>\n",
       "      <td>2001-01-04</td>\n",
       "      <td>1.079909</td>\n",
       "      <td>15.917634</td>\n",
       "      <td>NaN</td>\n",
       "      <td>15.50</td>\n",
       "      <td>30.713105</td>\n",
       "      <td>30.434732</td>\n",
       "      <td>26.061268</td>\n",
       "      <td>NaN</td>\n",
       "      <td>NaN</td>\n",
       "      <td>...</td>\n",
       "      <td>40.215529</td>\n",
       "      <td>41.633941</td>\n",
       "      <td>1.899571</td>\n",
       "      <td>3.16375</td>\n",
       "      <td>31.757251</td>\n",
       "      <td>6.734276</td>\n",
       "      <td>NaN</td>\n",
       "      <td>32.110705</td>\n",
       "      <td>11.64</td>\n",
       "      <td>11.637057</td>\n",
       "    </tr>\n",
       "    <tr>\n",
       "      <th>3</th>\n",
       "      <td>2001-01-05</td>\n",
       "      <td>1.036232</td>\n",
       "      <td>16.144371</td>\n",
       "      <td>NaN</td>\n",
       "      <td>14.56</td>\n",
       "      <td>31.110408</td>\n",
       "      <td>28.645513</td>\n",
       "      <td>26.177613</td>\n",
       "      <td>NaN</td>\n",
       "      <td>NaN</td>\n",
       "      <td>...</td>\n",
       "      <td>38.605190</td>\n",
       "      <td>40.827877</td>\n",
       "      <td>1.690112</td>\n",
       "      <td>3.08625</td>\n",
       "      <td>31.017174</td>\n",
       "      <td>5.724829</td>\n",
       "      <td>NaN</td>\n",
       "      <td>32.747215</td>\n",
       "      <td>10.32</td>\n",
       "      <td>11.705110</td>\n",
       "    </tr>\n",
       "    <tr>\n",
       "      <th>4</th>\n",
       "      <td>2001-01-08</td>\n",
       "      <td>1.048259</td>\n",
       "      <td>16.081936</td>\n",
       "      <td>NaN</td>\n",
       "      <td>14.94</td>\n",
       "      <td>31.069088</td>\n",
       "      <td>28.825636</td>\n",
       "      <td>26.061268</td>\n",
       "      <td>NaN</td>\n",
       "      <td>NaN</td>\n",
       "      <td>...</td>\n",
       "      <td>38.605190</td>\n",
       "      <td>40.592142</td>\n",
       "      <td>1.571082</td>\n",
       "      <td>2.97625</td>\n",
       "      <td>30.191194</td>\n",
       "      <td>6.271227</td>\n",
       "      <td>NaN</td>\n",
       "      <td>33.129122</td>\n",
       "      <td>9.36</td>\n",
       "      <td>11.585337</td>\n",
       "    </tr>\n",
       "  </tbody>\n",
       "</table>\n",
       "<p>5 rows × 50 columns</p>\n",
       "</div>"
      ],
      "text/plain": [
       "         date      AAPL       MSFT  FB   AMZN        JNJ        JPM  \\\n",
       "0  2001-01-02  0.941914  14.254892 NaN  13.88  32.419918  25.057661   \n",
       "1  2001-01-03  1.036232  15.753331 NaN  17.56  31.386930  29.630184   \n",
       "2  2001-01-04  1.079909  15.917634 NaN  15.50  30.713105  30.434732   \n",
       "3  2001-01-05  1.036232  16.144371 NaN  14.56  31.110408  28.645513   \n",
       "4  2001-01-08  1.048259  16.081936 NaN  14.94  31.069088  28.825636   \n",
       "\n",
       "         XOM  GOOGL  GOOG    ...            WMT        MDT      GILD     CELG  \\\n",
       "0  28.026554    NaN   NaN    ...      38.562248  45.207628  2.141676  4.04750   \n",
       "1  26.806504    NaN   NaN    ...      41.825868  44.774547  2.230082  3.75000   \n",
       "2  26.061268    NaN   NaN    ...      40.215529  41.633941  1.899571  3.16375   \n",
       "3  26.177613    NaN   NaN    ...      38.605190  40.827877  1.690112  3.08625   \n",
       "4  26.061268    NaN   NaN    ...      38.605190  40.592142  1.571082  2.97625   \n",
       "\n",
       "         HON      NVDA  AVGO        BMY   PCLN        ABT  \n",
       "0  29.239666  4.621229   NaN  36.259178   8.46  13.101557  \n",
       "1  31.803506  6.039702   NaN  34.020237  10.86  12.810290  \n",
       "2  31.757251  6.734276   NaN  32.110705  11.64  11.637057  \n",
       "3  31.017174  5.724829   NaN  32.747215  10.32  11.705110  \n",
       "4  30.191194  6.271227   NaN  33.129122   9.36  11.585337  \n",
       "\n",
       "[5 rows x 50 columns]"
      ]
     },
     "execution_count": 105,
     "metadata": {},
     "output_type": "execute_result"
    }
   ],
   "source": [
    "df.head()"
   ]
  },
  {
   "cell_type": "code",
   "execution_count": 106,
   "metadata": {},
   "outputs": [
    {
     "data": {
      "text/html": [
       "<div>\n",
       "<style scoped>\n",
       "    .dataframe tbody tr th:only-of-type {\n",
       "        vertical-align: middle;\n",
       "    }\n",
       "\n",
       "    .dataframe tbody tr th {\n",
       "        vertical-align: top;\n",
       "    }\n",
       "\n",
       "    .dataframe thead th {\n",
       "        text-align: right;\n",
       "    }\n",
       "</style>\n",
       "<table border=\"1\" class=\"dataframe\">\n",
       "  <thead>\n",
       "    <tr style=\"text-align: right;\">\n",
       "      <th></th>\n",
       "      <th>date</th>\n",
       "      <th>AAPL</th>\n",
       "      <th>MSFT</th>\n",
       "      <th>FB</th>\n",
       "      <th>AMZN</th>\n",
       "      <th>JNJ</th>\n",
       "      <th>JPM</th>\n",
       "      <th>XOM</th>\n",
       "      <th>GOOGL</th>\n",
       "      <th>GOOG</th>\n",
       "      <th>...</th>\n",
       "      <th>WMT</th>\n",
       "      <th>MDT</th>\n",
       "      <th>GILD</th>\n",
       "      <th>CELG</th>\n",
       "      <th>HON</th>\n",
       "      <th>NVDA</th>\n",
       "      <th>AVGO</th>\n",
       "      <th>BMY</th>\n",
       "      <th>PCLN</th>\n",
       "      <th>ABT</th>\n",
       "    </tr>\n",
       "  </thead>\n",
       "  <tbody>\n",
       "    <tr>\n",
       "      <th>4435</th>\n",
       "      <td>2018-08-20</td>\n",
       "      <td>215.46</td>\n",
       "      <td>106.87</td>\n",
       "      <td>172.500</td>\n",
       "      <td>1876.71</td>\n",
       "      <td>136.88</td>\n",
       "      <td>114.62</td>\n",
       "      <td>78.81</td>\n",
       "      <td>1221.95</td>\n",
       "      <td>1207.77</td>\n",
       "      <td>...</td>\n",
       "      <td>96.00</td>\n",
       "      <td>90.03</td>\n",
       "      <td>72.36</td>\n",
       "      <td>90.88</td>\n",
       "      <td>155.47</td>\n",
       "      <td>247.84</td>\n",
       "      <td>206.72</td>\n",
       "      <td>60.32</td>\n",
       "      <td>NaN</td>\n",
       "      <td>64.64</td>\n",
       "    </tr>\n",
       "    <tr>\n",
       "      <th>4436</th>\n",
       "      <td>2018-08-21</td>\n",
       "      <td>215.04</td>\n",
       "      <td>105.98</td>\n",
       "      <td>172.620</td>\n",
       "      <td>1883.42</td>\n",
       "      <td>135.35</td>\n",
       "      <td>115.32</td>\n",
       "      <td>78.83</td>\n",
       "      <td>1217.41</td>\n",
       "      <td>1201.62</td>\n",
       "      <td>...</td>\n",
       "      <td>96.08</td>\n",
       "      <td>95.17</td>\n",
       "      <td>73.32</td>\n",
       "      <td>91.20</td>\n",
       "      <td>156.98</td>\n",
       "      <td>253.32</td>\n",
       "      <td>210.51</td>\n",
       "      <td>60.08</td>\n",
       "      <td>NaN</td>\n",
       "      <td>64.75</td>\n",
       "    </tr>\n",
       "    <tr>\n",
       "      <th>4437</th>\n",
       "      <td>2018-08-22</td>\n",
       "      <td>215.05</td>\n",
       "      <td>107.06</td>\n",
       "      <td>173.640</td>\n",
       "      <td>1904.90</td>\n",
       "      <td>134.61</td>\n",
       "      <td>114.97</td>\n",
       "      <td>79.96</td>\n",
       "      <td>1221.75</td>\n",
       "      <td>1207.33</td>\n",
       "      <td>...</td>\n",
       "      <td>95.67</td>\n",
       "      <td>95.58</td>\n",
       "      <td>73.82</td>\n",
       "      <td>90.64</td>\n",
       "      <td>156.13</td>\n",
       "      <td>262.82</td>\n",
       "      <td>207.54</td>\n",
       "      <td>60.57</td>\n",
       "      <td>NaN</td>\n",
       "      <td>65.67</td>\n",
       "    </tr>\n",
       "    <tr>\n",
       "      <th>4438</th>\n",
       "      <td>2018-08-23</td>\n",
       "      <td>215.49</td>\n",
       "      <td>107.56</td>\n",
       "      <td>172.900</td>\n",
       "      <td>1902.90</td>\n",
       "      <td>135.11</td>\n",
       "      <td>114.73</td>\n",
       "      <td>79.08</td>\n",
       "      <td>1221.16</td>\n",
       "      <td>1205.38</td>\n",
       "      <td>...</td>\n",
       "      <td>95.18</td>\n",
       "      <td>95.61</td>\n",
       "      <td>73.34</td>\n",
       "      <td>89.84</td>\n",
       "      <td>157.91</td>\n",
       "      <td>266.84</td>\n",
       "      <td>205.59</td>\n",
       "      <td>60.09</td>\n",
       "      <td>NaN</td>\n",
       "      <td>65.83</td>\n",
       "    </tr>\n",
       "    <tr>\n",
       "      <th>4439</th>\n",
       "      <td>2018-08-24</td>\n",
       "      <td>216.16</td>\n",
       "      <td>108.40</td>\n",
       "      <td>174.645</td>\n",
       "      <td>1905.39</td>\n",
       "      <td>135.95</td>\n",
       "      <td>114.68</td>\n",
       "      <td>79.62</td>\n",
       "      <td>1236.75</td>\n",
       "      <td>1220.65</td>\n",
       "      <td>...</td>\n",
       "      <td>94.95</td>\n",
       "      <td>95.55</td>\n",
       "      <td>73.59</td>\n",
       "      <td>89.93</td>\n",
       "      <td>157.51</td>\n",
       "      <td>272.22</td>\n",
       "      <td>209.00</td>\n",
       "      <td>59.97</td>\n",
       "      <td>NaN</td>\n",
       "      <td>66.10</td>\n",
       "    </tr>\n",
       "  </tbody>\n",
       "</table>\n",
       "<p>5 rows × 50 columns</p>\n",
       "</div>"
      ],
      "text/plain": [
       "            date    AAPL    MSFT       FB     AMZN     JNJ     JPM    XOM  \\\n",
       "4435  2018-08-20  215.46  106.87  172.500  1876.71  136.88  114.62  78.81   \n",
       "4436  2018-08-21  215.04  105.98  172.620  1883.42  135.35  115.32  78.83   \n",
       "4437  2018-08-22  215.05  107.06  173.640  1904.90  134.61  114.97  79.96   \n",
       "4438  2018-08-23  215.49  107.56  172.900  1902.90  135.11  114.73  79.08   \n",
       "4439  2018-08-24  216.16  108.40  174.645  1905.39  135.95  114.68  79.62   \n",
       "\n",
       "        GOOGL     GOOG  ...      WMT    MDT   GILD   CELG     HON    NVDA  \\\n",
       "4435  1221.95  1207.77  ...    96.00  90.03  72.36  90.88  155.47  247.84   \n",
       "4436  1217.41  1201.62  ...    96.08  95.17  73.32  91.20  156.98  253.32   \n",
       "4437  1221.75  1207.33  ...    95.67  95.58  73.82  90.64  156.13  262.82   \n",
       "4438  1221.16  1205.38  ...    95.18  95.61  73.34  89.84  157.91  266.84   \n",
       "4439  1236.75  1220.65  ...    94.95  95.55  73.59  89.93  157.51  272.22   \n",
       "\n",
       "        AVGO    BMY  PCLN    ABT  \n",
       "4435  206.72  60.32   NaN  64.64  \n",
       "4436  210.51  60.08   NaN  64.75  \n",
       "4437  207.54  60.57   NaN  65.67  \n",
       "4438  205.59  60.09   NaN  65.83  \n",
       "4439  209.00  59.97   NaN  66.10  \n",
       "\n",
       "[5 rows x 50 columns]"
      ]
     },
     "execution_count": 106,
     "metadata": {},
     "output_type": "execute_result"
    }
   ],
   "source": [
    "df.tail()"
   ]
  },
  {
   "cell_type": "code",
   "execution_count": 107,
   "metadata": {},
   "outputs": [
    {
     "data": {
      "text/plain": [
       "(4440, 50)"
      ]
     },
     "execution_count": 107,
     "metadata": {},
     "output_type": "execute_result"
    }
   ],
   "source": [
    "df.shape"
   ]
  },
  {
   "cell_type": "code",
   "execution_count": 108,
   "metadata": {},
   "outputs": [
    {
     "data": {
      "text/html": [
       "<div>\n",
       "<style scoped>\n",
       "    .dataframe tbody tr th:only-of-type {\n",
       "        vertical-align: middle;\n",
       "    }\n",
       "\n",
       "    .dataframe tbody tr th {\n",
       "        vertical-align: top;\n",
       "    }\n",
       "\n",
       "    .dataframe thead th {\n",
       "        text-align: right;\n",
       "    }\n",
       "</style>\n",
       "<table border=\"1\" class=\"dataframe\">\n",
       "  <thead>\n",
       "    <tr style=\"text-align: right;\">\n",
       "      <th></th>\n",
       "      <th>AAPL</th>\n",
       "      <th>MSFT</th>\n",
       "      <th>FB</th>\n",
       "      <th>AMZN</th>\n",
       "      <th>JNJ</th>\n",
       "      <th>JPM</th>\n",
       "      <th>XOM</th>\n",
       "      <th>GOOGL</th>\n",
       "      <th>GOOG</th>\n",
       "      <th>BAC</th>\n",
       "      <th>...</th>\n",
       "      <th>WMT</th>\n",
       "      <th>MDT</th>\n",
       "      <th>GILD</th>\n",
       "      <th>CELG</th>\n",
       "      <th>HON</th>\n",
       "      <th>NVDA</th>\n",
       "      <th>AVGO</th>\n",
       "      <th>BMY</th>\n",
       "      <th>PCLN</th>\n",
       "      <th>ABT</th>\n",
       "    </tr>\n",
       "  </thead>\n",
       "  <tbody>\n",
       "    <tr>\n",
       "      <th>count</th>\n",
       "      <td>4440.000000</td>\n",
       "      <td>4440.000000</td>\n",
       "      <td>1578.000000</td>\n",
       "      <td>4440.000000</td>\n",
       "      <td>4440.000000</td>\n",
       "      <td>4440.000000</td>\n",
       "      <td>4440.000000</td>\n",
       "      <td>3530.000000</td>\n",
       "      <td>1113.000000</td>\n",
       "      <td>4440.000000</td>\n",
       "      <td>...</td>\n",
       "      <td>4440.000000</td>\n",
       "      <td>4440.000000</td>\n",
       "      <td>4440.000000</td>\n",
       "      <td>4440.000000</td>\n",
       "      <td>4440.000000</td>\n",
       "      <td>4440.000000</td>\n",
       "      <td>2280.000000</td>\n",
       "      <td>4440.000000</td>\n",
       "      <td>4314.000000</td>\n",
       "      <td>4440.000000</td>\n",
       "    </tr>\n",
       "    <tr>\n",
       "      <th>mean</th>\n",
       "      <td>48.310180</td>\n",
       "      <td>30.616045</td>\n",
       "      <td>95.801032</td>\n",
       "      <td>270.666637</td>\n",
       "      <td>62.314535</td>\n",
       "      <td>41.262014</td>\n",
       "      <td>56.386740</td>\n",
       "      <td>430.834224</td>\n",
       "      <td>774.047528</td>\n",
       "      <td>21.269334</td>\n",
       "      <td>...</td>\n",
       "      <td>50.629555</td>\n",
       "      <td>46.361626</td>\n",
       "      <td>34.046486</td>\n",
       "      <td>44.703558</td>\n",
       "      <td>55.500218</td>\n",
       "      <td>32.006529</td>\n",
       "      <td>93.189420</td>\n",
       "      <td>29.663031</td>\n",
       "      <td>499.818315</td>\n",
       "      <td>25.332072</td>\n",
       "    </tr>\n",
       "    <tr>\n",
       "      <th>std</th>\n",
       "      <td>51.382564</td>\n",
       "      <td>19.383773</td>\n",
       "      <td>52.610191</td>\n",
       "      <td>367.991115</td>\n",
       "      <td>29.993223</td>\n",
       "      <td>22.461346</td>\n",
       "      <td>20.189544</td>\n",
       "      <td>282.774046</td>\n",
       "      <td>203.960334</td>\n",
       "      <td>9.718843</td>\n",
       "      <td>...</td>\n",
       "      <td>15.997773</td>\n",
       "      <td>17.358570</td>\n",
       "      <td>31.165455</td>\n",
       "      <td>40.640718</td>\n",
       "      <td>37.514779</td>\n",
       "      <td>53.605196</td>\n",
       "      <td>80.098052</td>\n",
       "      <td>17.387019</td>\n",
       "      <td>583.174223</td>\n",
       "      <td>13.087757</td>\n",
       "    </tr>\n",
       "    <tr>\n",
       "      <th>min</th>\n",
       "      <td>0.830505</td>\n",
       "      <td>11.960377</td>\n",
       "      <td>17.729000</td>\n",
       "      <td>5.970000</td>\n",
       "      <td>26.550261</td>\n",
       "      <td>9.988996</td>\n",
       "      <td>19.688871</td>\n",
       "      <td>50.159839</td>\n",
       "      <td>492.550000</td>\n",
       "      <td>2.911450</td>\n",
       "      <td>...</td>\n",
       "      <td>31.534436</td>\n",
       "      <td>19.761432</td>\n",
       "      <td>1.561837</td>\n",
       "      <td>1.437500</td>\n",
       "      <td>13.154448</td>\n",
       "      <td>2.275114</td>\n",
       "      <td>12.724734</td>\n",
       "      <td>10.881438</td>\n",
       "      <td>6.600000</td>\n",
       "      <td>8.718111</td>\n",
       "    </tr>\n",
       "    <tr>\n",
       "      <th>25%</th>\n",
       "      <td>5.283072</td>\n",
       "      <td>19.060846</td>\n",
       "      <td>53.535000</td>\n",
       "      <td>39.922500</td>\n",
       "      <td>41.527536</td>\n",
       "      <td>26.696893</td>\n",
       "      <td>40.870123</td>\n",
       "      <td>233.117110</td>\n",
       "      <td>575.280000</td>\n",
       "      <td>13.800224</td>\n",
       "      <td>...</td>\n",
       "      <td>38.345388</td>\n",
       "      <td>34.634424</td>\n",
       "      <td>9.527034</td>\n",
       "      <td>10.000000</td>\n",
       "      <td>26.593259</td>\n",
       "      <td>9.858312</td>\n",
       "      <td>29.527170</td>\n",
       "      <td>15.139746</td>\n",
       "      <td>26.717500</td>\n",
       "      <td>15.235212</td>\n",
       "    </tr>\n",
       "    <tr>\n",
       "      <th>50%</th>\n",
       "      <td>24.624587</td>\n",
       "      <td>22.308219</td>\n",
       "      <td>87.257500</td>\n",
       "      <td>112.195000</td>\n",
       "      <td>48.382821</td>\n",
       "      <td>33.847769</td>\n",
       "      <td>59.110905</td>\n",
       "      <td>304.560148</td>\n",
       "      <td>747.770000</td>\n",
       "      <td>19.197016</td>\n",
       "      <td>...</td>\n",
       "      <td>43.234824</td>\n",
       "      <td>39.209899</td>\n",
       "      <td>20.306773</td>\n",
       "      <td>29.350000</td>\n",
       "      <td>40.509620</td>\n",
       "      <td>14.063283</td>\n",
       "      <td>54.189991</td>\n",
       "      <td>20.990110</td>\n",
       "      <td>137.815000</td>\n",
       "      <td>20.183048</td>\n",
       "    </tr>\n",
       "    <tr>\n",
       "      <th>75%</th>\n",
       "      <td>81.382612</td>\n",
       "      <td>35.518671</td>\n",
       "      <td>132.152500</td>\n",
       "      <td>321.167500</td>\n",
       "      <td>85.524969</td>\n",
       "      <td>50.898520</td>\n",
       "      <td>74.623713</td>\n",
       "      <td>581.085475</td>\n",
       "      <td>932.220000</td>\n",
       "      <td>29.489776</td>\n",
       "      <td>...</td>\n",
       "      <td>65.135675</td>\n",
       "      <td>54.229711</td>\n",
       "      <td>65.731400</td>\n",
       "      <td>79.045000</td>\n",
       "      <td>84.146170</td>\n",
       "      <td>21.161331</td>\n",
       "      <td>147.934228</td>\n",
       "      <td>45.300801</td>\n",
       "      <td>1040.520000</td>\n",
       "      <td>35.251927</td>\n",
       "    </tr>\n",
       "    <tr>\n",
       "      <th>max</th>\n",
       "      <td>217.580000</td>\n",
       "      <td>110.399313</td>\n",
       "      <td>217.500000</td>\n",
       "      <td>1919.650000</td>\n",
       "      <td>146.121100</td>\n",
       "      <td>117.790000</td>\n",
       "      <td>89.752731</td>\n",
       "      <td>1285.500000</td>\n",
       "      <td>1268.330000</td>\n",
       "      <td>42.241976</td>\n",
       "      <td>...</td>\n",
       "      <td>107.596715</td>\n",
       "      <td>95.610000</td>\n",
       "      <td>113.396782</td>\n",
       "      <td>146.520000</td>\n",
       "      <td>162.578866</td>\n",
       "      <td>272.220000</td>\n",
       "      <td>278.881020</td>\n",
       "      <td>72.750648</td>\n",
       "      <td>2049.000000</td>\n",
       "      <td>66.100000</td>\n",
       "    </tr>\n",
       "  </tbody>\n",
       "</table>\n",
       "<p>8 rows × 49 columns</p>\n",
       "</div>"
      ],
      "text/plain": [
       "              AAPL         MSFT           FB         AMZN          JNJ  \\\n",
       "count  4440.000000  4440.000000  1578.000000  4440.000000  4440.000000   \n",
       "mean     48.310180    30.616045    95.801032   270.666637    62.314535   \n",
       "std      51.382564    19.383773    52.610191   367.991115    29.993223   \n",
       "min       0.830505    11.960377    17.729000     5.970000    26.550261   \n",
       "25%       5.283072    19.060846    53.535000    39.922500    41.527536   \n",
       "50%      24.624587    22.308219    87.257500   112.195000    48.382821   \n",
       "75%      81.382612    35.518671   132.152500   321.167500    85.524969   \n",
       "max     217.580000   110.399313   217.500000  1919.650000   146.121100   \n",
       "\n",
       "               JPM          XOM        GOOGL         GOOG          BAC  \\\n",
       "count  4440.000000  4440.000000  3530.000000  1113.000000  4440.000000   \n",
       "mean     41.262014    56.386740   430.834224   774.047528    21.269334   \n",
       "std      22.461346    20.189544   282.774046   203.960334     9.718843   \n",
       "min       9.988996    19.688871    50.159839   492.550000     2.911450   \n",
       "25%      26.696893    40.870123   233.117110   575.280000    13.800224   \n",
       "50%      33.847769    59.110905   304.560148   747.770000    19.197016   \n",
       "75%      50.898520    74.623713   581.085475   932.220000    29.489776   \n",
       "max     117.790000    89.752731  1285.500000  1268.330000    42.241976   \n",
       "\n",
       "          ...               WMT          MDT         GILD         CELG  \\\n",
       "count     ...       4440.000000  4440.000000  4440.000000  4440.000000   \n",
       "mean      ...         50.629555    46.361626    34.046486    44.703558   \n",
       "std       ...         15.997773    17.358570    31.165455    40.640718   \n",
       "min       ...         31.534436    19.761432     1.561837     1.437500   \n",
       "25%       ...         38.345388    34.634424     9.527034    10.000000   \n",
       "50%       ...         43.234824    39.209899    20.306773    29.350000   \n",
       "75%       ...         65.135675    54.229711    65.731400    79.045000   \n",
       "max       ...        107.596715    95.610000   113.396782   146.520000   \n",
       "\n",
       "               HON         NVDA         AVGO          BMY         PCLN  \\\n",
       "count  4440.000000  4440.000000  2280.000000  4440.000000  4314.000000   \n",
       "mean     55.500218    32.006529    93.189420    29.663031   499.818315   \n",
       "std      37.514779    53.605196    80.098052    17.387019   583.174223   \n",
       "min      13.154448     2.275114    12.724734    10.881438     6.600000   \n",
       "25%      26.593259     9.858312    29.527170    15.139746    26.717500   \n",
       "50%      40.509620    14.063283    54.189991    20.990110   137.815000   \n",
       "75%      84.146170    21.161331   147.934228    45.300801  1040.520000   \n",
       "max     162.578866   272.220000   278.881020    72.750648  2049.000000   \n",
       "\n",
       "               ABT  \n",
       "count  4440.000000  \n",
       "mean     25.332072  \n",
       "std      13.087757  \n",
       "min       8.718111  \n",
       "25%      15.235212  \n",
       "50%      20.183048  \n",
       "75%      35.251927  \n",
       "max      66.100000  \n",
       "\n",
       "[8 rows x 49 columns]"
      ]
     },
     "execution_count": 108,
     "metadata": {},
     "output_type": "execute_result"
    }
   ],
   "source": [
    "df.describe()"
   ]
  },
  {
   "cell_type": "code",
   "execution_count": 109,
   "metadata": {},
   "outputs": [
    {
     "name": "stdout",
     "output_type": "stream",
     "text": [
      "<class 'pandas.core.frame.DataFrame'>\n",
      "RangeIndex: 4440 entries, 0 to 4439\n",
      "Data columns (total 10 columns):\n",
      "date     4440 non-null object\n",
      "AAPL     4440 non-null float64\n",
      "MSFT     4440 non-null float64\n",
      "FB       1578 non-null float64\n",
      "AMZN     4440 non-null float64\n",
      "JNJ      4440 non-null float64\n",
      "JPM      4440 non-null float64\n",
      "XOM      4440 non-null float64\n",
      "GOOGL    3530 non-null float64\n",
      "GOOG     1113 non-null float64\n",
      "dtypes: float64(9), object(1)\n",
      "memory usage: 347.0+ KB\n"
     ]
    }
   ],
   "source": [
    "# Show only the first 10 columns in datafram\n",
    "df.iloc[:, 0:10].info()"
   ]
  },
  {
   "cell_type": "code",
   "execution_count": 110,
   "metadata": {},
   "outputs": [
    {
     "data": {
      "text/plain": [
       "date     0.000000\n",
       "AAPL     0.000000\n",
       "MSFT     0.000000\n",
       "FB       0.644595\n",
       "AMZN     0.000000\n",
       "JNJ      0.000000\n",
       "JPM      0.000000\n",
       "XOM      0.000000\n",
       "GOOGL    0.204955\n",
       "GOOG     0.749324\n",
       "dtype: float64"
      ]
     },
     "execution_count": 110,
     "metadata": {},
     "output_type": "execute_result"
    }
   ],
   "source": [
    "# proportion missing values\n",
    "# show only the first 10 columns in dataframe\n",
    "df.iloc[:, 0:10].isnull().sum()/len(df)"
   ]
  },
  {
   "cell_type": "code",
   "execution_count": 111,
   "metadata": {},
   "outputs": [
    {
     "data": {
      "text/html": [
       "<div>\n",
       "<style scoped>\n",
       "    .dataframe tbody tr th:only-of-type {\n",
       "        vertical-align: middle;\n",
       "    }\n",
       "\n",
       "    .dataframe tbody tr th {\n",
       "        vertical-align: top;\n",
       "    }\n",
       "\n",
       "    .dataframe thead th {\n",
       "        text-align: right;\n",
       "    }\n",
       "</style>\n",
       "<table border=\"1\" class=\"dataframe\">\n",
       "  <thead>\n",
       "    <tr style=\"text-align: right;\">\n",
       "      <th></th>\n",
       "      <th>AAPL</th>\n",
       "      <th>MSFT</th>\n",
       "      <th>FB</th>\n",
       "      <th>AMZN</th>\n",
       "      <th>JNJ</th>\n",
       "      <th>JPM</th>\n",
       "      <th>XOM</th>\n",
       "      <th>GOOGL</th>\n",
       "      <th>GOOG</th>\n",
       "      <th>BAC</th>\n",
       "      <th>...</th>\n",
       "      <th>WMT</th>\n",
       "      <th>MDT</th>\n",
       "      <th>GILD</th>\n",
       "      <th>CELG</th>\n",
       "      <th>HON</th>\n",
       "      <th>NVDA</th>\n",
       "      <th>AVGO</th>\n",
       "      <th>BMY</th>\n",
       "      <th>PCLN</th>\n",
       "      <th>ABT</th>\n",
       "    </tr>\n",
       "    <tr>\n",
       "      <th>date</th>\n",
       "      <th></th>\n",
       "      <th></th>\n",
       "      <th></th>\n",
       "      <th></th>\n",
       "      <th></th>\n",
       "      <th></th>\n",
       "      <th></th>\n",
       "      <th></th>\n",
       "      <th></th>\n",
       "      <th></th>\n",
       "      <th></th>\n",
       "      <th></th>\n",
       "      <th></th>\n",
       "      <th></th>\n",
       "      <th></th>\n",
       "      <th></th>\n",
       "      <th></th>\n",
       "      <th></th>\n",
       "      <th></th>\n",
       "      <th></th>\n",
       "      <th></th>\n",
       "    </tr>\n",
       "  </thead>\n",
       "  <tbody>\n",
       "    <tr>\n",
       "      <th>2017-01-03</th>\n",
       "      <td>113.008218</td>\n",
       "      <td>60.439210</td>\n",
       "      <td>116.86</td>\n",
       "      <td>753.67</td>\n",
       "      <td>111.386107</td>\n",
       "      <td>83.990394</td>\n",
       "      <td>84.924851</td>\n",
       "      <td>808.01</td>\n",
       "      <td>786.14</td>\n",
       "      <td>22.007337</td>\n",
       "      <td>...</td>\n",
       "      <td>65.744953</td>\n",
       "      <td>68.272158</td>\n",
       "      <td>70.967312</td>\n",
       "      <td>118.75</td>\n",
       "      <td>112.184666</td>\n",
       "      <td>101.493542</td>\n",
       "      <td>172.499458</td>\n",
       "      <td>56.728182</td>\n",
       "      <td>1477.57</td>\n",
       "      <td>37.642052</td>\n",
       "    </tr>\n",
       "    <tr>\n",
       "      <th>2017-01-04</th>\n",
       "      <td>112.881734</td>\n",
       "      <td>60.168788</td>\n",
       "      <td>118.69</td>\n",
       "      <td>757.18</td>\n",
       "      <td>111.203412</td>\n",
       "      <td>84.144452</td>\n",
       "      <td>83.990481</td>\n",
       "      <td>807.77</td>\n",
       "      <td>786.90</td>\n",
       "      <td>22.417594</td>\n",
       "      <td>...</td>\n",
       "      <td>66.127970</td>\n",
       "      <td>68.910306</td>\n",
       "      <td>73.091738</td>\n",
       "      <td>118.55</td>\n",
       "      <td>112.493662</td>\n",
       "      <td>103.861492</td>\n",
       "      <td>171.271050</td>\n",
       "      <td>56.804520</td>\n",
       "      <td>1487.29</td>\n",
       "      <td>37.940875</td>\n",
       "    </tr>\n",
       "    <tr>\n",
       "      <th>2017-01-05</th>\n",
       "      <td>113.455775</td>\n",
       "      <td>60.168788</td>\n",
       "      <td>120.67</td>\n",
       "      <td>780.45</td>\n",
       "      <td>112.366890</td>\n",
       "      <td>83.369909</td>\n",
       "      <td>82.738426</td>\n",
       "      <td>813.02</td>\n",
       "      <td>794.02</td>\n",
       "      <td>22.153857</td>\n",
       "      <td>...</td>\n",
       "      <td>66.271602</td>\n",
       "      <td>68.484874</td>\n",
       "      <td>72.737667</td>\n",
       "      <td>118.76</td>\n",
       "      <td>112.744721</td>\n",
       "      <td>101.224909</td>\n",
       "      <td>168.572421</td>\n",
       "      <td>57.755424</td>\n",
       "      <td>1503.70</td>\n",
       "      <td>38.268616</td>\n",
       "    </tr>\n",
       "  </tbody>\n",
       "</table>\n",
       "<p>3 rows × 49 columns</p>\n",
       "</div>"
      ],
      "text/plain": [
       "                  AAPL       MSFT      FB    AMZN         JNJ        JPM  \\\n",
       "date                                                                       \n",
       "2017-01-03  113.008218  60.439210  116.86  753.67  111.386107  83.990394   \n",
       "2017-01-04  112.881734  60.168788  118.69  757.18  111.203412  84.144452   \n",
       "2017-01-05  113.455775  60.168788  120.67  780.45  112.366890  83.369909   \n",
       "\n",
       "                  XOM   GOOGL    GOOG        BAC    ...            WMT  \\\n",
       "date                                                ...                  \n",
       "2017-01-03  84.924851  808.01  786.14  22.007337    ...      65.744953   \n",
       "2017-01-04  83.990481  807.77  786.90  22.417594    ...      66.127970   \n",
       "2017-01-05  82.738426  813.02  794.02  22.153857    ...      66.271602   \n",
       "\n",
       "                  MDT       GILD    CELG         HON        NVDA        AVGO  \\\n",
       "date                                                                           \n",
       "2017-01-03  68.272158  70.967312  118.75  112.184666  101.493542  172.499458   \n",
       "2017-01-04  68.910306  73.091738  118.55  112.493662  103.861492  171.271050   \n",
       "2017-01-05  68.484874  72.737667  118.76  112.744721  101.224909  168.572421   \n",
       "\n",
       "                  BMY     PCLN        ABT  \n",
       "date                                       \n",
       "2017-01-03  56.728182  1477.57  37.642052  \n",
       "2017-01-04  56.804520  1487.29  37.940875  \n",
       "2017-01-05  57.755424  1503.70  38.268616  \n",
       "\n",
       "[3 rows x 49 columns]"
      ]
     },
     "execution_count": 111,
     "metadata": {},
     "output_type": "execute_result"
    }
   ],
   "source": [
    "# needs to set date as index in order to slice by date, \n",
    "# now the dataframe holds time series for each stock.\n",
    "df.date = pd.to_datetime(df.date) # necessary in order to show dates in plots\n",
    "df.set_index('date', inplace=True)\n",
    "df['2016-12-31':'2017-01-05'] # notice that slicing uses apostroph"
   ]
  },
  {
   "cell_type": "markdown",
   "metadata": {},
   "source": [
    "### Selection"
   ]
  },
  {
   "cell_type": "code",
   "execution_count": 112,
   "metadata": {
    "scrolled": true
   },
   "outputs": [
    {
     "data": {
      "text/html": [
       "<div>\n",
       "<style scoped>\n",
       "    .dataframe tbody tr th:only-of-type {\n",
       "        vertical-align: middle;\n",
       "    }\n",
       "\n",
       "    .dataframe tbody tr th {\n",
       "        vertical-align: top;\n",
       "    }\n",
       "\n",
       "    .dataframe thead th {\n",
       "        text-align: right;\n",
       "    }\n",
       "</style>\n",
       "<table border=\"1\" class=\"dataframe\">\n",
       "  <thead>\n",
       "    <tr style=\"text-align: right;\">\n",
       "      <th></th>\n",
       "      <th>AAPL</th>\n",
       "      <th>MSFT</th>\n",
       "    </tr>\n",
       "    <tr>\n",
       "      <th>date</th>\n",
       "      <th></th>\n",
       "      <th></th>\n",
       "    </tr>\n",
       "  </thead>\n",
       "  <tbody>\n",
       "    <tr>\n",
       "      <th>2001-01-02</th>\n",
       "      <td>0.941914</td>\n",
       "      <td>14.254892</td>\n",
       "    </tr>\n",
       "    <tr>\n",
       "      <th>2001-01-03</th>\n",
       "      <td>1.036232</td>\n",
       "      <td>15.753331</td>\n",
       "    </tr>\n",
       "    <tr>\n",
       "      <th>2001-01-04</th>\n",
       "      <td>1.079909</td>\n",
       "      <td>15.917634</td>\n",
       "    </tr>\n",
       "    <tr>\n",
       "      <th>2001-01-05</th>\n",
       "      <td>1.036232</td>\n",
       "      <td>16.144371</td>\n",
       "    </tr>\n",
       "    <tr>\n",
       "      <th>2001-01-08</th>\n",
       "      <td>1.048259</td>\n",
       "      <td>16.081936</td>\n",
       "    </tr>\n",
       "  </tbody>\n",
       "</table>\n",
       "</div>"
      ],
      "text/plain": [
       "                AAPL       MSFT\n",
       "date                           \n",
       "2001-01-02  0.941914  14.254892\n",
       "2001-01-03  1.036232  15.753331\n",
       "2001-01-04  1.079909  15.917634\n",
       "2001-01-05  1.036232  16.144371\n",
       "2001-01-08  1.048259  16.081936"
      ]
     },
     "execution_count": 112,
     "metadata": {},
     "output_type": "execute_result"
    }
   ],
   "source": [
    "df.loc[:, ['AAPL', 'MSFT']].head() "
   ]
  },
  {
   "cell_type": "code",
   "execution_count": 113,
   "metadata": {},
   "outputs": [
    {
     "data": {
      "text/html": [
       "<div>\n",
       "<style scoped>\n",
       "    .dataframe tbody tr th:only-of-type {\n",
       "        vertical-align: middle;\n",
       "    }\n",
       "\n",
       "    .dataframe tbody tr th {\n",
       "        vertical-align: top;\n",
       "    }\n",
       "\n",
       "    .dataframe thead th {\n",
       "        text-align: right;\n",
       "    }\n",
       "</style>\n",
       "<table border=\"1\" class=\"dataframe\">\n",
       "  <thead>\n",
       "    <tr style=\"text-align: right;\">\n",
       "      <th></th>\n",
       "      <th>AAPL</th>\n",
       "      <th>MSFT</th>\n",
       "    </tr>\n",
       "    <tr>\n",
       "      <th>date</th>\n",
       "      <th></th>\n",
       "      <th></th>\n",
       "    </tr>\n",
       "  </thead>\n",
       "  <tbody>\n",
       "    <tr>\n",
       "      <th>2017-01-03</th>\n",
       "      <td>113.008218</td>\n",
       "      <td>60.439210</td>\n",
       "    </tr>\n",
       "    <tr>\n",
       "      <th>2017-01-04</th>\n",
       "      <td>112.881734</td>\n",
       "      <td>60.168788</td>\n",
       "    </tr>\n",
       "    <tr>\n",
       "      <th>2017-01-05</th>\n",
       "      <td>113.455775</td>\n",
       "      <td>60.168788</td>\n",
       "    </tr>\n",
       "  </tbody>\n",
       "</table>\n",
       "</div>"
      ],
      "text/plain": [
       "                  AAPL       MSFT\n",
       "date                             \n",
       "2017-01-03  113.008218  60.439210\n",
       "2017-01-04  112.881734  60.168788\n",
       "2017-01-05  113.455775  60.168788"
      ]
     },
     "execution_count": 113,
     "metadata": {},
     "output_type": "execute_result"
    }
   ],
   "source": [
    "df.loc['2016-12-31':'2017-01-05', ['AAPL', 'MSFT']].head()"
   ]
  },
  {
   "cell_type": "markdown",
   "metadata": {},
   "source": [
    "## Plotting with pandas"
   ]
  },
  {
   "cell_type": "code",
   "execution_count": 114,
   "metadata": {},
   "outputs": [],
   "source": [
    "import matplotlib.pyplot as plt\n"
   ]
  },
  {
   "cell_type": "code",
   "execution_count": 115,
   "metadata": {},
   "outputs": [
    {
     "data": {
      "image/png": "[encoded data removed]",
      "text/plain": [
       "<matplotlib.figure.Figure at 0x18f50f6c668>"
      ]
     },
     "metadata": {},
     "output_type": "display_data"
    }
   ],
   "source": [
    "df['AAPL'].plot(figsize=(10, 6))\n",
    "plt.show()"
   ]
  },
  {
   "cell_type": "code",
   "execution_count": 116,
   "metadata": {},
   "outputs": [
    {
     "data": {
      "image/png": "[encoded data removed]",
      "text/plain": [
       "<matplotlib.figure.Figure at 0x18f511e8e48>"
      ]
     },
     "metadata": {},
     "output_type": "display_data"
    }
   ],
   "source": [
    "# plot the first 5 columns in the dataframe\n",
    "df.iloc[:, :5].plot(subplots=False, figsize=(10, 10))\n",
    "plt.show()"
   ]
  },
  {
   "cell_type": "code",
   "execution_count": null,
   "metadata": {},
   "outputs": [],
   "source": []
  },
  {
   "cell_type": "code",
   "execution_count": null,
   "metadata": {},
   "outputs": [],
   "source": []
  },
  {
   "cell_type": "code",
   "execution_count": 117,
   "metadata": {},
   "outputs": [
    {
     "data": {
      "image/png": "[encoded data removed]",
      "text/plain": [
       "<matplotlib.figure.Figure at 0x18f51366160>"
      ]
     },
     "metadata": {},
     "output_type": "display_data"
    }
   ],
   "source": [
    "df.AAPL.pct_change().plot(figsize=(10, 6))\n",
    "plt.title('Apple stock returns by date')\n",
    "plt.show()"
   ]
  },
  {
   "cell_type": "code",
   "execution_count": 118,
   "metadata": {},
   "outputs": [
    {
     "data": {
      "image/png": "[encoded data removed]",
      "text/plain": [
       "<matplotlib.figure.Figure at 0x18f515bac18>"
      ]
     },
     "metadata": {},
     "output_type": "display_data"
    }
   ],
   "source": [
    "df.AAPL.pct_change().hist(bins=100, figsize=(10, 6))\n",
    "plt.title('Apple stock returns')\n",
    "plt.xlabel('Percentage change')\n",
    "plt.show()"
   ]
  },
  {
   "cell_type": "markdown",
   "metadata": {},
   "source": [
    "### Some examples on how to use apply on dataframe"
   ]
  },
  {
   "cell_type": "code",
   "execution_count": 119,
   "metadata": {},
   "outputs": [
    {
     "name": "stdout",
     "output_type": "stream",
     "text": [
      "<class 'pandas.core.series.Series'>\n"
     ]
    }
   ],
   "source": [
    "df_mean = df.apply(np.mean)\n",
    "print(type(df_mean))"
   ]
  },
  {
   "cell_type": "code",
   "execution_count": 120,
   "metadata": {},
   "outputs": [
    {
     "data": {
      "text/plain": [
       "AAPL      48.310180\n",
       "MSFT      30.616045\n",
       "FB        95.801032\n",
       "AMZN     270.666637\n",
       "JNJ       62.314535\n",
       "JPM       41.262014\n",
       "XOM       56.386740\n",
       "GOOGL    430.834224\n",
       "GOOG     774.047528\n",
       "BAC       21.269334\n",
       "dtype: float64"
      ]
     },
     "execution_count": 120,
     "metadata": {},
     "output_type": "execute_result"
    }
   ],
   "source": [
    "df_mean.iloc[0:10]"
   ]
  },
  {
   "cell_type": "code",
   "execution_count": 121,
   "metadata": {},
   "outputs": [
    {
     "data": {
      "text/plain": [
       "AAPL      51.376778\n",
       "MSFT      19.381590\n",
       "FB        52.593519\n",
       "AMZN     367.949673\n",
       "JNJ       29.989845\n",
       "JPM       22.458816\n",
       "XOM       20.187271\n",
       "GOOGL    282.733990\n",
       "GOOG     203.868687\n",
       "BAC        9.717748\n",
       "dtype: float64"
      ]
     },
     "execution_count": 121,
     "metadata": {},
     "output_type": "execute_result"
    }
   ],
   "source": [
    "df_std = df.apply(np.std)\n",
    "df_std.iloc[:10]"
   ]
  },
  {
   "cell_type": "code",
   "execution_count": null,
   "metadata": {},
   "outputs": [],
   "source": []
  },
  {
   "cell_type": "markdown",
   "metadata": {},
   "source": [
    "## Python Import"
   ]
  },
  {
   "cell_type": "code",
   "execution_count": 122,
   "metadata": {},
   "outputs": [],
   "source": [
    "import numpy as np\n",
    "import pandas as pd\n",
    "from pylab import plt\n",
    "plt.style.use('seaborn')\n",
    "%matplotlib inline"
   ]
  },
  {
   "cell_type": "markdown",
   "metadata": {},
   "source": [
    "## Random Data"
   ]
  },
  {
   "cell_type": "code",
   "execution_count": 123,
   "metadata": {},
   "outputs": [],
   "source": [
    "rn = np.random.standard_normal(size=50)"
   ]
  },
  {
   "cell_type": "code",
   "execution_count": 124,
   "metadata": {},
   "outputs": [
    {
     "data": {
      "text/plain": [
       "0.1985803987697192"
      ]
     },
     "execution_count": 124,
     "metadata": {},
     "output_type": "execute_result"
    }
   ],
   "source": [
    "rn.mean()"
   ]
  },
  {
   "cell_type": "code",
   "execution_count": 125,
   "metadata": {},
   "outputs": [
    {
     "data": {
      "text/plain": [
       "0.89882691547484284"
      ]
     },
     "execution_count": 125,
     "metadata": {},
     "output_type": "execute_result"
    }
   ],
   "source": [
    "rn.std()"
   ]
  },
  {
   "cell_type": "code",
   "execution_count": 126,
   "metadata": {},
   "outputs": [
    {
     "data": {
      "image/png": "[encoded data removed]",
      "text/plain": [
       "<matplotlib.figure.Figure at 0x18f51382518>"
      ]
     },
     "metadata": {},
     "output_type": "display_data"
    }
   ],
   "source": [
    "plt.plot(rn, 'ro')\n",
    "plt.show()"
   ]
  },
  {
   "cell_type": "code",
   "execution_count": 127,
   "metadata": {},
   "outputs": [
    {
     "data": {
      "image/png": "[encoded data removed]",
      "text/plain": [
       "<matplotlib.figure.Figure at 0x18f515331d0>"
      ]
     },
     "metadata": {},
     "output_type": "display_data"
    }
   ],
   "source": [
    "plt.plot(rn.cumsum() + 100)\n",
    "plt.show()"
   ]
  },
  {
   "cell_type": "markdown",
   "metadata": {},
   "source": [
    "## OLS Regression"
   ]
  },
  {
   "cell_type": "code",
   "execution_count": 128,
   "metadata": {},
   "outputs": [],
   "source": [
    "x = np.linspace(-5, 5, 25)"
   ]
  },
  {
   "cell_type": "code",
   "execution_count": 129,
   "metadata": {},
   "outputs": [],
   "source": [
    "y = 1.5 * x ** 2 - 2 * x + 4 + np.random.standard_normal(len(x))"
   ]
  },
  {
   "cell_type": "code",
   "execution_count": 130,
   "metadata": {},
   "outputs": [
    {
     "data": {
      "image/png": "[encoded data removed]",
      "text/plain": [
       "<matplotlib.figure.Figure at 0x18f51486780>"
      ]
     },
     "metadata": {},
     "output_type": "display_data"
    }
   ],
   "source": [
    "plt.plot(x, y, 'r.')\n",
    "plt.show()"
   ]
  },
  {
   "cell_type": "markdown",
   "metadata": {},
   "source": [
    "## numpy.polyfit\n",
    "\n",
    "numpy.polyfit(x, y, deg, rcond=None, full=False, w=None, cov=False)\n",
    "* Least squares polynomial fit.\n",
    "\n",
    "    Fit a polynomial p(x) = p[0] * x**deg + ... + p[deg] of degree deg to points (x, y). Returns a vector of coefficients p that minimises the squared error."
   ]
  },
  {
   "cell_type": "code",
   "execution_count": 131,
   "metadata": {},
   "outputs": [],
   "source": [
    "reg = np.polyfit(x, y, deg=2)"
   ]
  },
  {
   "cell_type": "code",
   "execution_count": 132,
   "metadata": {},
   "outputs": [
    {
     "data": {
      "text/plain": [
       "array([ 1.52070571, -2.03942006,  3.75409397])"
      ]
     },
     "execution_count": 132,
     "metadata": {},
     "output_type": "execute_result"
    }
   ],
   "source": [
    "reg"
   ]
  },
  {
   "cell_type": "code",
   "execution_count": 133,
   "metadata": {},
   "outputs": [
    {
     "data": {
      "text/plain": [
       "17.482687160473571"
      ]
     },
     "execution_count": 133,
     "metadata": {},
     "output_type": "execute_result"
    }
   ],
   "source": [
    "y.mean()"
   ]
  },
  {
   "cell_type": "markdown",
   "metadata": {},
   "source": [
    "## numpy.polyval\n",
    "\n",
    "numpy.polyval(p, x)[source]\n",
    " * Evaluate a polynomial at specific values.\n",
    "\n",
    "    If p is of length N, this function returns the value:\n",
    "\n",
    "        p[0]*x**(N-1) + p[1]*x**(N-2) + ... + p[N-2]*x + p[N-1]\n",
    "\n",
    "    If x is a sequence, then p(x) is returned for each element of x. If x is another polynomial then the composite polynomial p(x(t)) is returned."
   ]
  },
  {
   "cell_type": "code",
   "execution_count": 134,
   "metadata": {},
   "outputs": [
    {
     "name": "stdout",
     "output_type": "stream",
     "text": [
      "[ 1.52070571 -2.03942006  3.75409397]\n"
     ]
    },
    {
     "data": {
      "image/png": "[encoded data removed]",
      "text/plain": [
       "<matplotlib.figure.Figure at 0x18f515e8320>"
      ]
     },
     "metadata": {},
     "output_type": "display_data"
    }
   ],
   "source": [
    "print(reg)\n",
    "yr = np.polyval(reg, x)\n",
    "plt.plot(x, y, 'r.')\n",
    "plt.plot(x, yr, 'b')\n",
    "plt.show()"
   ]
  },
  {
   "cell_type": "markdown",
   "metadata": {},
   "source": [
    "## Regression with scikit-learn"
   ]
  },
  {
   "cell_type": "code",
   "execution_count": 135,
   "metadata": {},
   "outputs": [],
   "source": [
    "from sklearn.linear_model import LinearRegression\n",
    "from sklearn.ensemble import RandomForestRegressor\n",
    "from sklearn.ensemble import GradientBoostingRegressor\n",
    "from sklearn.metrics import mean_squared_error"
   ]
  },
  {
   "cell_type": "markdown",
   "metadata": {},
   "source": [
    "### Linear model"
   ]
  },
  {
   "cell_type": "code",
   "execution_count": 136,
   "metadata": {},
   "outputs": [
    {
     "name": "stdout",
     "output_type": "stream",
     "text": [
      "0.198682703959\n",
      "mean-squared-error: 151.439333118\n"
     ]
    },
    {
     "data": {
      "image/png": "[encoded data removed]",
      "text/plain": [
       "<matplotlib.figure.Figure at 0x18f53337b70>"
      ]
     },
     "metadata": {},
     "output_type": "display_data"
    }
   ],
   "source": [
    "reg_ln = LinearRegression()\n",
    "reg_ln.fit(x.reshape(-1, 1), y)\n",
    "print(reg_ln.score(x.reshape(-1, 1), y))\n",
    "yr = reg_ln.predict(x.reshape(-1, 1))#np.polyval(reg_sklearn.coef_, x)\n",
    "print('mean-squared-error:', mean_squared_error(yr, y))\n",
    "plt.plot(x, y, 'r.')\n",
    "plt.plot(x, yr, 'b')\n",
    "plt.show()"
   ]
  },
  {
   "cell_type": "code",
   "execution_count": null,
   "metadata": {},
   "outputs": [],
   "source": []
  },
  {
   "cell_type": "markdown",
   "metadata": {},
   "source": [
    "### Gradient Boosting regressor\n",
    "Gradient Tree Boosting or Gradient Boosted Regression Trees (GBRT) is a generalization of boosting to arbitrary differentiable loss functions. GBRT is an accurate and effective off-the-shelf procedure that can be used for both regression and classification problems. Gradient Tree Boosting models are used in a variety of areas including Web search ranking and ecology.\n",
    "\n",
    "The advantages of GBRT are:\n",
    "*  Natural handling of data of mixed type (= heterogeneous features)\n",
    "*  Predictive power\n",
    "*  Robustness to outliers in output space (via robust loss functions)\n",
    "\n",
    "The disadvantages of GBRT are:\n",
    "* Scalability, due to the sequential nature of boosting it can hardly be parallelized.\n",
    "\n",
    "The module sklearn.ensemble provides methods for both classification and regression via gradient boosted regression trees."
   ]
  },
  {
   "cell_type": "code",
   "execution_count": 137,
   "metadata": {},
   "outputs": [
    {
     "name": "stdout",
     "output_type": "stream",
     "text": [
      "score: 0.999997084953\n",
      "mean-squared-error: 0.000550908879883\n"
     ]
    },
    {
     "data": {
      "image/png": "[encoded data removed]",
      "text/plain": [
       "<matplotlib.figure.Figure at 0x18f53395320>"
      ]
     },
     "metadata": {},
     "output_type": "display_data"
    }
   ],
   "source": [
    "reg_gb = GradientBoostingRegressor()\n",
    "reg_gb.fit(x.reshape(-1, 1), y) # we have to reshape to a matrix of dim (25, 1)\n",
    "#print(reg_sklearn.coef_)\n",
    "print('score:', reg_gb.score(x.reshape(-1, 1), y))\n",
    "yr = reg_gb.predict(x.reshape(-1, 1))\n",
    "print('mean-squared-error:', mean_squared_error(yr, y))\n",
    "plt.plot(x, y, 'r.')\n",
    "plt.plot(x, yr, 'b')\n",
    "plt.show()"
   ]
  },
  {
   "cell_type": "markdown",
   "metadata": {},
   "source": [
    "### Random Forest Regressor\n",
    "A random forest is a meta estimator that fits a number of classifying decision trees on various sub-samples of the dataset and uses averaging to improve the predictive accuracy and control over-fitting. The sub-sample size is always the same as the original input sample size but the samples are drawn with replacement if bootstrap=True (default).\n",
    "\n",
    "In random forests (see RandomForestClassifier and RandomForestRegressor classes), each tree in the ensemble is built from a sample drawn with replacement (i.e., a bootstrap sample) from the training set. In addition, when splitting a node during the construction of the tree, the split that is chosen is no longer the best split among all features. Instead, the split that is picked is the best split among a random subset of the features. As a result of this randomness, the bias of the forest usually slightly increases (with respect to the bias of a single non-random tree) but, due to averaging, its variance also decreases, usually more than compensating for the increase in bias, hence yielding an overall better model."
   ]
  },
  {
   "cell_type": "code",
   "execution_count": 138,
   "metadata": {},
   "outputs": [
    {
     "name": "stdout",
     "output_type": "stream",
     "text": [
      "score: 0.999997084953\n",
      "mean-squared-error: 2.64942398723\n"
     ]
    },
    {
     "data": {
      "image/png": "[encoded data removed]",
      "text/plain": [
       "<matplotlib.figure.Figure at 0x18f53384da0>"
      ]
     },
     "metadata": {},
     "output_type": "display_data"
    }
   ],
   "source": [
    "reg_rf = RandomForestRegressor()\n",
    "reg_rf.fit(x.reshape(-1, 1), y) # we have to reshape to a matrix of dim (25, 1)\n",
    "#print(reg_sklearn.coef_)\n",
    "print('score:', reg_gb.score(x.reshape(-1, 1), y))\n",
    "yr = reg_rf.predict(x.reshape(-1, 1))\n",
    "print('mean-squared-error:', mean_squared_error(yr, y))\n",
    "plt.plot(x, y, 'r.')\n",
    "plt.plot(x, yr, 'b')\n",
    "plt.show()"
   ]
  },
  {
   "cell_type": "markdown",
   "metadata": {},
   "source": [
    "# Regression with financial data"
   ]
  },
  {
   "cell_type": "code",
   "execution_count": 139,
   "metadata": {},
   "outputs": [],
   "source": [
    "import quandl\n",
    "quandl.ApiConfig.api_key = 'LcV7TTWCgXqKHco3f52D'\n",
    "from sklearn import svm\n",
    "from sklearn.model_selection import cross_validate\n",
    "from sklearn.linear_model import LinearRegression\n",
    "import math\n",
    "from sklearn.model_selection import train_test_split\n",
    "from sklearn.preprocessing import StandardScaler\n",
    "from sklearn.metrics import mean_squared_error, r2_score"
   ]
  },
  {
   "cell_type": "markdown",
   "metadata": {},
   "source": [
    "# Download data from quandl"
   ]
  },
  {
   "cell_type": "code",
   "execution_count": 140,
   "metadata": {},
   "outputs": [],
   "source": [
    "df = quandl.get(\"WIKI/GOOGL\")"
   ]
  },
  {
   "cell_type": "code",
   "execution_count": 141,
   "metadata": {},
   "outputs": [
    {
     "data": {
      "text/html": [
       "<div>\n",
       "<style scoped>\n",
       "    .dataframe tbody tr th:only-of-type {\n",
       "        vertical-align: middle;\n",
       "    }\n",
       "\n",
       "    .dataframe tbody tr th {\n",
       "        vertical-align: top;\n",
       "    }\n",
       "\n",
       "    .dataframe thead th {\n",
       "        text-align: right;\n",
       "    }\n",
       "</style>\n",
       "<table border=\"1\" class=\"dataframe\">\n",
       "  <thead>\n",
       "    <tr style=\"text-align: right;\">\n",
       "      <th></th>\n",
       "      <th>Open</th>\n",
       "      <th>High</th>\n",
       "      <th>Low</th>\n",
       "      <th>Close</th>\n",
       "      <th>Volume</th>\n",
       "      <th>Ex-Dividend</th>\n",
       "      <th>Split Ratio</th>\n",
       "      <th>Adj. Open</th>\n",
       "      <th>Adj. High</th>\n",
       "      <th>Adj. Low</th>\n",
       "      <th>Adj. Close</th>\n",
       "      <th>Adj. Volume</th>\n",
       "    </tr>\n",
       "    <tr>\n",
       "      <th>Date</th>\n",
       "      <th></th>\n",
       "      <th></th>\n",
       "      <th></th>\n",
       "      <th></th>\n",
       "      <th></th>\n",
       "      <th></th>\n",
       "      <th></th>\n",
       "      <th></th>\n",
       "      <th></th>\n",
       "      <th></th>\n",
       "      <th></th>\n",
       "      <th></th>\n",
       "    </tr>\n",
       "  </thead>\n",
       "  <tbody>\n",
       "    <tr>\n",
       "      <th>2004-08-19</th>\n",
       "      <td>100.01</td>\n",
       "      <td>104.06</td>\n",
       "      <td>95.96</td>\n",
       "      <td>100.335</td>\n",
       "      <td>44659000.0</td>\n",
       "      <td>0.0</td>\n",
       "      <td>1.0</td>\n",
       "      <td>50.159839</td>\n",
       "      <td>52.191109</td>\n",
       "      <td>48.128568</td>\n",
       "      <td>50.322842</td>\n",
       "      <td>44659000.0</td>\n",
       "    </tr>\n",
       "    <tr>\n",
       "      <th>2004-08-20</th>\n",
       "      <td>101.01</td>\n",
       "      <td>109.08</td>\n",
       "      <td>100.50</td>\n",
       "      <td>108.310</td>\n",
       "      <td>22834300.0</td>\n",
       "      <td>0.0</td>\n",
       "      <td>1.0</td>\n",
       "      <td>50.661387</td>\n",
       "      <td>54.708881</td>\n",
       "      <td>50.405597</td>\n",
       "      <td>54.322689</td>\n",
       "      <td>22834300.0</td>\n",
       "    </tr>\n",
       "    <tr>\n",
       "      <th>2004-08-23</th>\n",
       "      <td>110.76</td>\n",
       "      <td>113.48</td>\n",
       "      <td>109.05</td>\n",
       "      <td>109.400</td>\n",
       "      <td>18256100.0</td>\n",
       "      <td>0.0</td>\n",
       "      <td>1.0</td>\n",
       "      <td>55.551482</td>\n",
       "      <td>56.915693</td>\n",
       "      <td>54.693835</td>\n",
       "      <td>54.869377</td>\n",
       "      <td>18256100.0</td>\n",
       "    </tr>\n",
       "    <tr>\n",
       "      <th>2004-08-24</th>\n",
       "      <td>111.24</td>\n",
       "      <td>111.60</td>\n",
       "      <td>103.57</td>\n",
       "      <td>104.870</td>\n",
       "      <td>15247300.0</td>\n",
       "      <td>0.0</td>\n",
       "      <td>1.0</td>\n",
       "      <td>55.792225</td>\n",
       "      <td>55.972783</td>\n",
       "      <td>51.945350</td>\n",
       "      <td>52.597363</td>\n",
       "      <td>15247300.0</td>\n",
       "    </tr>\n",
       "    <tr>\n",
       "      <th>2004-08-25</th>\n",
       "      <td>104.76</td>\n",
       "      <td>108.00</td>\n",
       "      <td>103.88</td>\n",
       "      <td>106.000</td>\n",
       "      <td>9188600.0</td>\n",
       "      <td>0.0</td>\n",
       "      <td>1.0</td>\n",
       "      <td>52.542193</td>\n",
       "      <td>54.167209</td>\n",
       "      <td>52.100830</td>\n",
       "      <td>53.164113</td>\n",
       "      <td>9188600.0</td>\n",
       "    </tr>\n",
       "  </tbody>\n",
       "</table>\n",
       "</div>"
      ],
      "text/plain": [
       "              Open    High     Low    Close      Volume  Ex-Dividend  \\\n",
       "Date                                                                   \n",
       "2004-08-19  100.01  104.06   95.96  100.335  44659000.0          0.0   \n",
       "2004-08-20  101.01  109.08  100.50  108.310  22834300.0          0.0   \n",
       "2004-08-23  110.76  113.48  109.05  109.400  18256100.0          0.0   \n",
       "2004-08-24  111.24  111.60  103.57  104.870  15247300.0          0.0   \n",
       "2004-08-25  104.76  108.00  103.88  106.000   9188600.0          0.0   \n",
       "\n",
       "            Split Ratio  Adj. Open  Adj. High   Adj. Low  Adj. Close  \\\n",
       "Date                                                                   \n",
       "2004-08-19          1.0  50.159839  52.191109  48.128568   50.322842   \n",
       "2004-08-20          1.0  50.661387  54.708881  50.405597   54.322689   \n",
       "2004-08-23          1.0  55.551482  56.915693  54.693835   54.869377   \n",
       "2004-08-24          1.0  55.792225  55.972783  51.945350   52.597363   \n",
       "2004-08-25          1.0  52.542193  54.167209  52.100830   53.164113   \n",
       "\n",
       "            Adj. Volume  \n",
       "Date                     \n",
       "2004-08-19   44659000.0  \n",
       "2004-08-20   22834300.0  \n",
       "2004-08-23   18256100.0  \n",
       "2004-08-24   15247300.0  \n",
       "2004-08-25    9188600.0  "
      ]
     },
     "metadata": {},
     "output_type": "display_data"
    }
   ],
   "source": [
    "display(df.head())"
   ]
  },
  {
   "cell_type": "code",
   "execution_count": 142,
   "metadata": {},
   "outputs": [],
   "source": [
    "def hl_pct(high, low, close):\n",
    "    return 100.0 * (high - low)/close"
   ]
  },
  {
   "cell_type": "code",
   "execution_count": 143,
   "metadata": {},
   "outputs": [],
   "source": [
    "def pct_change(cl, op):\n",
    "    return 100.0 * (cl - op)/op"
   ]
  },
  {
   "cell_type": "code",
   "execution_count": 144,
   "metadata": {},
   "outputs": [],
   "source": [
    "df = df[['Adj. Open', 'Adj. High', 'Adj. Low', 'Adj. Close', 'Adj. Volume']]\n",
    "df['HL_PCT'] = np.vectorize(hl_pct)(df['Adj. High'], df['Adj. Low'], df['Adj. Close'])\n",
    "df['PCT_change'] = np.vectorize(pct_change)(df['Adj. Close'], df['Adj. Open'])\n",
    "df = df[['Adj. Close', 'HL_PCT', 'PCT_change', 'Adj. Volume']]"
   ]
  },
  {
   "cell_type": "code",
   "execution_count": 145,
   "metadata": {
    "scrolled": false
   },
   "outputs": [
    {
     "name": "stdout",
     "output_type": "stream",
     "text": [
      "df[forecast_col].head():\n",
      "Date\n",
      "2004-08-19    50.322842\n",
      "2004-08-20    54.322689\n",
      "2004-08-23    54.869377\n",
      "2004-08-24    52.597363\n",
      "2004-08-25    53.164113\n",
      "Name: Adj. Close, dtype: float64\n",
      "\n",
      "df.label.head()\n",
      "Date\n",
      "2004-08-19    69.078238\n",
      "2004-08-20    67.839414\n",
      "2004-08-23    68.912727\n",
      "2004-08-24    70.668146\n",
      "2004-08-25    71.219849\n",
      "Name: label, dtype: float64\n",
      "\n",
      "Confidence: 0.978027090006\n",
      "Mean-squared-error: 1417.74535774\n",
      "R2-score: 0.977422757687\n"
     ]
    }
   ],
   "source": [
    "\n",
    "forecast_col = 'Adj. Close'\n",
    "\n",
    "df.fillna(value=-99999, inplace=True)\n",
    "forecast_out = int(math.ceil(0.01 * len(df)))\n",
    "# print(forecast_out)\n",
    "df['label'] = df[forecast_col].shift(-forecast_out)\n",
    "\n",
    "print('df[forecast_col].head():')\n",
    "print(df[forecast_col].head())\n",
    "print('')\n",
    "print('df.label.head()')\n",
    "print(df.label.head())\n",
    "\n",
    "# Before transformation split in train and test\n",
    "X = df.drop('label', axis=1)\n",
    "#X = X[:-forecast_out]\n",
    "\n",
    "X_lately = X[-forecast_out:]\n",
    "X = X[:-forecast_out]\n",
    "df.dropna(inplace=True)\n",
    "y = df['label']\n",
    "\n",
    "scaler = StandardScaler()\n",
    "\n",
    "xtrain, xtest, ytrain, ytest = train_test_split(X, y, test_size=0.2)\n",
    "xtrain = scaler.fit_transform(xtrain)\n",
    "xtest = scaler.transform(xtest)\n",
    "\n",
    "lr = LinearRegression(n_jobs=-1)\n",
    "lr.fit(xtrain, ytrain)\n",
    "pred = lr.predict(xtest)\n",
    "# Independent data-set\n",
    "independent_pred = lr.predict(X_lately)\n",
    "\n",
    "confidence = lr.score(xtest, ytest)\n",
    "print('')\n",
    "print('Confidence:', confidence)\n",
    "print('Mean-squared-error:', mean_squared_error(pred, ytest))\n",
    "print('R2-score:', r2_score(pred, ytest))\n",
    "#print(independent_pred, confidence, forecast_out)"
   ]
  },
  {
   "cell_type": "code",
   "execution_count": 146,
   "metadata": {},
   "outputs": [],
   "source": [
    "import datetime\n",
    "import matplotlib.pyplot as plt\n",
    "from matplotlib import style"
   ]
  },
  {
   "cell_type": "code",
   "execution_count": 147,
   "metadata": {},
   "outputs": [
    {
     "name": "stdout",
     "output_type": "stream",
     "text": [
      "Date\n",
      "2004-08-19    50.322842\n",
      "2004-08-20    54.322689\n",
      "2004-08-23    54.869377\n",
      "2004-08-24    52.597363\n",
      "2004-08-25    53.164113\n",
      "Name: Adj. Close, dtype: float64\n",
      "[-8264531.88439293 -5554481.17800889 -6762342.38214948 -9884264.59171988\n",
      " -6130209.22489999 -3334483.25818717 -4372644.70346699 -3856018.29688938\n",
      " -4234086.94724098 -3487360.12149218 -4349825.20216558 -2890313.10432169\n",
      " -2538965.0979733  -3117412.21275857 -4509766.44172228 -5282215.67444618\n",
      " -6058699.51190678 -5463637.33859167 -2999948.57880496 -2396054.3452216\n",
      " -3235168.54320609 -3169892.07823741 -4442342.65708937 -4576310.91434313\n",
      " -4583202.32089058 -4361912.90484603 -3423931.89811459 -5785987.13460291\n",
      " -6759473.36745916 -5920889.84198406 -4276987.1667155  -7553254.29245491\n",
      " -5261706.63763537 -7219602.47975086 -6473266.66978915]\n"
     ]
    },
    {
     "data": {
      "image/png": "[encoded data removed]",
      "text/plain": [
       "<matplotlib.figure.Figure at 0x18f5140eb00>"
      ]
     },
     "metadata": {},
     "output_type": "display_data"
    }
   ],
   "source": [
    "style.use('ggplot')\n",
    "df['Forecast'] = np.nan\n",
    "last_date = df.iloc[-1].name\n",
    "last_unix = last_date.timestamp()\n",
    "one_day = 86400\n",
    "next_unix = last_unix + one_day\n",
    "\n",
    "for i in independent_pred:\n",
    "    next_date = datetime.datetime.fromtimestamp(next_unix)\n",
    "    next_unix += 86400\n",
    "    \n",
    "    df.loc[next_date] = [np.nan for _ in range(len(df.columns) - 1)] + [i]\n",
    "    df.loc['Forecast'] = i\n",
    "\n",
    "print(df['Adj. Close'].head())\n",
    "print(independent_pred)\n",
    "df['Adj. Close'].plot(figsize=(10, 6))\n",
    "df['Forecast'].plot()\n",
    "plt.legend(loc=4)\n",
    "plt.xlabel('Date')\n",
    "plt.ylabel('Price')\n",
    "plt.show()"
   ]
  },
  {
   "cell_type": "code",
   "execution_count": null,
   "metadata": {},
   "outputs": [],
   "source": []
  },
  {
   "cell_type": "code",
   "execution_count": null,
   "metadata": {},
   "outputs": [],
   "source": []
  },
  {
   "cell_type": "code",
   "execution_count": 169,
   "metadata": {},
   "outputs": [
    {
     "data": {
      "image/png": "[encoded data removed]",
      "text/plain": [
       "<matplotlib.figure.Figure at 0x18f50226dd8>"
      ]
     },
     "metadata": {},
     "output_type": "display_data"
    }
   ],
   "source": [
    "from sklearn import preprocessing, cross_validation\n",
    "style.use('ggplot')\n",
    "\n",
    "df = quandl.get(\"WIKI/GOOGL\")\n",
    "df = df[['Adj. Open',  'Adj. High',  'Adj. Low',  'Adj. Close', 'Adj. Volume']]\n",
    "df['HL_PCT'] = (df['Adj. High'] - df['Adj. Low']) / df['Adj. Close'] * 100.0\n",
    "df['PCT_change'] = (df['Adj. Close'] - df['Adj. Open']) / df['Adj. Open'] * 100.0\n",
    "\n",
    "df = df[['Adj. Close', 'HL_PCT', 'PCT_change', 'Adj. Volume']]\n",
    "forecast_col = 'Adj. Close'\n",
    "df.fillna(value=-99999, inplace=True)\n",
    "forecast_out = int(math.ceil(0.01 * len(df)))\n",
    "df['label'] = df[forecast_col].shift(-forecast_out)\n",
    "\n",
    "X = np.array(df.drop(['label'], 1))\n",
    "#X = preprocessing.scale(X)\n",
    "X = scaler.fit_transform(X)\n",
    "X_lately = X[-forecast_out:]\n",
    "X = X[:-forecast_out]\n",
    "\n",
    "df.dropna(inplace=True)\n",
    "\n",
    "y = np.array(df['label'])\n",
    "# Ok it makes difference when you normalize data\n",
    "X_train, X_test, y_train, y_test = cross_validation.train_test_split(X, y, test_size=0.2)\n",
    "#X_train = scaler.fit_transform(X_train)\n",
    "#X_test = scaler.transform(X_test)\n",
    "\n",
    "clf = LinearRegression(n_jobs=-1)\n",
    "clf.fit(X_train, y_train)\n",
    "confidence = clf.score(X_test, y_test)\n",
    "\n",
    "forecast_set = clf.predict(X_lately)\n",
    "df['Forecast'] = np.nan\n",
    "\n",
    "last_date = df.iloc[-1].name\n",
    "last_unix = last_date.timestamp()\n",
    "one_day = 86400\n",
    "next_unix = last_unix + one_day\n",
    "\n",
    "for i in forecast_set:\n",
    "    next_date = datetime.datetime.fromtimestamp(next_unix)\n",
    "    next_unix += 86400\n",
    "    df.loc[next_date] = [np.nan for _ in range(len(df.columns)-1)]+[i]\n",
    "\n",
    "df['Adj. Close'].plot(figsize=(15, 10))\n",
    "df['Forecast'].plot()\n",
    "plt.legend(loc=4)\n",
    "plt.xlabel('Date')\n",
    "plt.ylabel('Price')\n",
    "plt.show()"
   ]
  },
  {
   "cell_type": "code",
   "execution_count": null,
   "metadata": {},
   "outputs": [],
   "source": []
  },
  {
   "cell_type": "markdown",
   "metadata": {},
   "source": [
    "## Simple Classification Problem"
   ]
  },
  {
   "cell_type": "markdown",
   "metadata": {},
   "source": [
    "### Data"
   ]
  },
  {
   "cell_type": "code",
   "execution_count": 149,
   "metadata": {},
   "outputs": [
    {
     "data": {
      "image/png": "[encoded data removed]",
      "text/plain": [
       "<matplotlib.figure.Figure at 0x18f5333a5c0>"
      ]
     },
     "metadata": {},
     "output_type": "display_data"
    }
   ],
   "source": [
    "i = np.array([1, 2, 2.5, 2.75, 3, 4, 4.5, 6, 7, 7.25])\n",
    "o = np.array([0, 0, 0, 0, 1, 0, 1, 1, 1, 1])\n",
    "plt.plot(i, o, 'ro')\n",
    "plt.show()"
   ]
  },
  {
   "cell_type": "markdown",
   "metadata": {},
   "source": [
    "### OLS Regression"
   ]
  },
  {
   "cell_type": "code",
   "execution_count": 150,
   "metadata": {},
   "outputs": [],
   "source": [
    "reg = np.polyfit(i, o, deg=3)"
   ]
  },
  {
   "cell_type": "code",
   "execution_count": 151,
   "metadata": {},
   "outputs": [],
   "source": [
    "oreg = np.polyval(reg, i)"
   ]
  },
  {
   "cell_type": "code",
   "execution_count": 152,
   "metadata": {},
   "outputs": [
    {
     "data": {
      "text/plain": [
       "array([-0.02871811,  0.06731748,  0.16709993,  0.22604232,  0.28953689,\n",
       "        0.56680847,  0.70386016,  1.00198139,  1.01761939,  0.98845208])"
      ]
     },
     "execution_count": 152,
     "metadata": {},
     "output_type": "execute_result"
    }
   ],
   "source": [
    "oreg"
   ]
  },
  {
   "cell_type": "code",
   "execution_count": 153,
   "metadata": {},
   "outputs": [
    {
     "data": {
      "image/png": "[encoded data removed]",
      "text/plain": [
       "<matplotlib.figure.Figure at 0x18f533ac080>"
      ]
     },
     "metadata": {},
     "output_type": "display_data"
    }
   ],
   "source": [
    "plt.plot(i, o, 'ro')\n",
    "plt.plot(i, oreg, 'b')\n",
    "plt.show()"
   ]
  },
  {
   "cell_type": "markdown",
   "metadata": {},
   "source": [
    "### Logistic Regression"
   ]
  },
  {
   "cell_type": "code",
   "execution_count": 154,
   "metadata": {},
   "outputs": [],
   "source": [
    "from sklearn import linear_model"
   ]
  },
  {
   "cell_type": "code",
   "execution_count": 155,
   "metadata": {},
   "outputs": [],
   "source": [
    "lm = linear_model.LogisticRegression()"
   ]
  },
  {
   "cell_type": "code",
   "execution_count": 156,
   "metadata": {},
   "outputs": [],
   "source": [
    "ir = i.reshape((1, -1)).T  # due to sklearn reqs"
   ]
  },
  {
   "cell_type": "code",
   "execution_count": 157,
   "metadata": {},
   "outputs": [
    {
     "data": {
      "text/plain": [
       "LogisticRegression(C=1.0, class_weight=None, dual=False, fit_intercept=True,\n",
       "          intercept_scaling=1, max_iter=100, multi_class='ovr', n_jobs=1,\n",
       "          penalty='l2', random_state=None, solver='liblinear', tol=0.0001,\n",
       "          verbose=0, warm_start=False)"
      ]
     },
     "execution_count": 157,
     "metadata": {},
     "output_type": "execute_result"
    }
   ],
   "source": [
    "lm.fit(ir, o)"
   ]
  },
  {
   "cell_type": "code",
   "execution_count": 158,
   "metadata": {},
   "outputs": [],
   "source": [
    "pred = lm.predict(ir)"
   ]
  },
  {
   "cell_type": "code",
   "execution_count": 159,
   "metadata": {},
   "outputs": [],
   "source": [
    "prob = lm.predict_proba(ir)"
   ]
  },
  {
   "cell_type": "code",
   "execution_count": 160,
   "metadata": {},
   "outputs": [
    {
     "data": {
      "image/png": "[encoded data removed]",
      "text/plain": [
       "<matplotlib.figure.Figure at 0x18f538edeb8>"
      ]
     },
     "metadata": {},
     "output_type": "display_data"
    }
   ],
   "source": [
    "plt.plot(i, o, 'ro', label='data')\n",
    "plt.plot(i, pred, 'b', label='pred') # predicition 0 or 1\n",
    "plt.plot(i, prob, 'g--', label='prob') # probabilities\n",
    "plt.legend(loc=0) # loc=0 is translated to best location in matplotlib, there are other codes, see docs \n",
    "plt.show()"
   ]
  },
  {
   "cell_type": "markdown",
   "metadata": {},
   "source": [
    "## Using Deep Neural Networks"
   ]
  },
  {
   "cell_type": "code",
   "execution_count": 161,
   "metadata": {},
   "outputs": [],
   "source": [
    "import tensorflow as tf"
   ]
  },
  {
   "cell_type": "code",
   "execution_count": 162,
   "metadata": {},
   "outputs": [],
   "source": [
    "tf.logging.set_verbosity(tf.logging.ERROR)"
   ]
  },
  {
   "cell_type": "code",
   "execution_count": 163,
   "metadata": {},
   "outputs": [],
   "source": [
    "fc = [tf.contrib.layers.real_valued_column('i', dimension=1)]"
   ]
  },
  {
   "cell_type": "code",
   "execution_count": 164,
   "metadata": {},
   "outputs": [],
   "source": [
    "model = tf.contrib.learn.DNNClassifier(hidden_units=[30], feature_columns=fc)"
   ]
  },
  {
   "cell_type": "code",
   "execution_count": 165,
   "metadata": {},
   "outputs": [],
   "source": [
    "def get_data():\n",
    "    fc = {'i': tf.constant(i)}\n",
    "    la = tf.constant(o, shape=[len(o), 1])\n",
    "    return fc, la"
   ]
  },
  {
   "cell_type": "code",
   "execution_count": 166,
   "metadata": {},
   "outputs": [
    {
     "data": {
      "text/plain": [
       "DNNClassifier(params={'head': <tensorflow.contrib.learn.python.learn.estimators.head._BinaryLogisticHead object at 0x0000018F565B3588>, 'hidden_units': [30], 'feature_columns': (_RealValuedColumn(column_name='i', dimension=1, default_value=None, dtype=tf.float32, normalizer=None),), 'optimizer': None, 'activation_fn': <function relu at 0x0000018F55EB9730>, 'dropout': None, 'gradient_clip_norm': None, 'embedding_lr_multipliers': None, 'input_layer_min_slice_size': None})"
      ]
     },
     "execution_count": 166,
     "metadata": {},
     "output_type": "execute_result"
    }
   ],
   "source": [
    "model.fit(input_fn=get_data, steps=50)"
   ]
  },
  {
   "cell_type": "code",
   "execution_count": 167,
   "metadata": {},
   "outputs": [],
   "source": [
    "dnnpred = list(model.predict(input_fn=get_data))"
   ]
  },
  {
   "cell_type": "code",
   "execution_count": 168,
   "metadata": {},
   "outputs": [
    {
     "data": {
      "image/png": "[encoded data removed]",
      "text/plain": [
       "<matplotlib.figure.Figure at 0x190c4a18630>"
      ]
     },
     "metadata": {},
     "output_type": "display_data"
    }
   ],
   "source": [
    "plt.plot(i, o, 'ro', label='data')\n",
    "plt.plot(i, pred, 'b-.', label='log')\n",
    "plt.plot(i, dnnpred, 'm--', label='dnn')\n",
    "plt.legend(loc=0)\n",
    "plt.show()"
   ]
  }
 ],
 "metadata": {
  "kernelspec": {
   "display_name": "Python 3",
   "language": "python",
   "name": "python3"
  },
  "language_info": {
   "codemirror_mode": {
    "name": "ipython",
    "version": 3
   },
   "file_extension": ".py",
   "mimetype": "text/x-python",
   "name": "python",
   "nbconvert_exporter": "python",
   "pygments_lexer": "ipython3",
   "version": "3.6.5"
  }
 },
 "nbformat": 4,
 "nbformat_minor": 2
}
